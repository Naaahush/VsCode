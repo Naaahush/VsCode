{
 "cells": [
  {
   "cell_type": "code",
   "execution_count": 1,
   "metadata": {},
   "outputs": [],
   "source": [
    "import pandas as pd\n",
    "import numpy  as np\n",
    "import matplotlib.pyplot as plt\n",
    "import seaborn as sns"
   ]
  },
  {
   "cell_type": "code",
   "execution_count": 2,
   "metadata": {},
   "outputs": [
    {
     "name": "stdout",
     "output_type": "stream",
     "text": [
      "   age    age_group\n",
      "0   25        Young\n",
      "1   30  Middle Aged\n",
      "2   35  Middle Aged\n",
      "3   40       Senior\n",
      "4   45       Senior\n"
     ]
    }
   ],
   "source": [
    "df = pd.DataFrame({'age':[25,30,35,40,45]})\n",
    "\n",
    "bins=[20,30,40,50]\n",
    "\n",
    "labels = ['Young','Middle Aged','Senior']\n",
    "\n",
    "df['age_group'] = pd.cut(df['age'], bins= bins, labels= labels,right=False)\n",
    "\n",
    "print(df)"
   ]
  },
  {
   "cell_type": "code",
   "execution_count": 3,
   "metadata": {},
   "outputs": [
    {
     "name": "stdout",
     "output_type": "stream",
     "text": [
      "   number       bins\n",
      "0      55    41to 60\n",
      "1      51    41to 60\n",
      "2      82  81 to 100\n",
      "3      47    41to 60\n",
      "4      52    41to 60\n",
      "5       8    1 to 20\n",
      "6      91  81 to 100\n",
      "7      64   61 to 80\n",
      "8      40    41to 60\n",
      "9      56    41to 60\n",
      "['41to 60', '81 to 100', '1 to 20', '61 to 80']\n",
      "Categories (5, object): ['1 to 20' < '21 to 40' < '41to 60' < '61 to 80' < '81 to 100']\n"
     ]
    }
   ],
   "source": [
    "df1 = pd.DataFrame({'number':np.random.randint(1,100,10)})\n",
    "\n",
    "df1['bins'] = pd.cut(x=df1['number'],bins=[1,20,40,60,80,100],labels=['1 to 20','21 to 40','41to 60','61 to 80','81 to 100'], right=False)\n",
    "\n",
    "print(df1)\n",
    "\n",
    "print(df1['bins'].unique())"
   ]
  },
  {
   "cell_type": "code",
   "execution_count": 4,
   "metadata": {},
   "outputs": [
    {
     "name": "stdout",
     "output_type": "stream",
     "text": [
      "   income Income_group\n",
      "0   50000          Low\n",
      "1   55000       Middle\n",
      "2   60000       Middle\n",
      "3   65000         High\n",
      "4   70000         High\n"
     ]
    }
   ],
   "source": [
    "df = pd.DataFrame({'income':[50000,55000,60000,65000,70000]})\n",
    "\n",
    "bins = [45000,55000,65000,75000]\n",
    "\n",
    "bins_names = ['Low','Middle','High']\n",
    "\n",
    "df['Income_group'] = pd.cut(df['income'], bins= bins, labels= bins_names,right=False)\n",
    "\n",
    "print(df)"
   ]
  },
  {
   "cell_type": "code",
   "execution_count": 5,
   "metadata": {},
   "outputs": [
    {
     "name": "stdout",
     "output_type": "stream",
     "text": [
      "Expense Type  Food  Rent  Transportation\n",
      "Month                                   \n",
      "Feb            400   900             150\n",
      "Jan            500  1000             200\n",
      "Mar            450   800             175\n"
     ]
    }
   ],
   "source": [
    "data = {'Month': ['Jan', 'Jan', 'Jan', 'Feb', 'Feb', 'Feb', 'Mar', 'Mar', 'Mar'],\n",
    "        'Year': [2020, 2020, 2020, 2020, 2020, 2020, 2020, 2020, 2020],\n",
    "        'Expense Type': ['Rent', 'Food', 'Transportation', 'Rent', 'Food', 'Transportation', 'Rent', 'Food', 'Transportation'],\n",
    "        'Expense Amount': [1000, 500, 200, 900, 400, 150, 800, 450, 175]}\n",
    "df = pd.DataFrame(data)\n",
    "\n",
    "pivot_table = df.pivot(index='Month',columns='Expense Type', values='Expense Amount')\n",
    "\n",
    "print(pivot_table)"
   ]
  },
  {
   "cell_type": "code",
   "execution_count": 6,
   "metadata": {},
   "outputs": [
    {
     "name": "stdout",
     "output_type": "stream",
     "text": [
      "Product      A      B      C      D\n",
      "Month                              \n",
      "Apr        NaN  250.0    NaN    NaN\n",
      "Aug        NaN    NaN  350.0    NaN\n",
      "Dec        NaN    NaN    NaN  550.0\n",
      "Feb      200.0    NaN    NaN    NaN\n",
      "Jan      100.0    NaN    NaN    NaN\n",
      "Jul        NaN    NaN  300.0    NaN\n",
      "Jun        NaN  175.0    NaN    NaN\n",
      "Mar      150.0    NaN    NaN    NaN\n",
      "May        NaN  200.0    NaN    NaN\n",
      "Nov        NaN    NaN    NaN  500.0\n",
      "Oct        NaN    NaN    NaN  450.0\n",
      "Sep        NaN    NaN  400.0    NaN\n"
     ]
    }
   ],
   "source": [
    "data = { 'Month': ['Jan','Feb','Mar','Apr','May','Jun','Jul','Aug','Sep','Oct','Nov','Dec'],\n",
    "        'Year':[2020,2020,2020,2020,2020,2020,2020,2020,2020,2020,2020,2020],\n",
    "        'Product': ['A','A','A','B','B','B','C','C','C','D','D','D'],\n",
    "        'Sales': [100,200,150,250,200,175,300,350,400,450,500,550]\n",
    "}\n",
    "# Create a Pandas DataFrame from the data dictionary\n",
    "df =pd.DataFrame(data)\n",
    "\n",
    "pivot_table =  df.pivot(index='Month',columns='Product', values='Sales')\n",
    "print(pivot_table)"
   ]
  },
  {
   "cell_type": "code",
   "execution_count": 7,
   "metadata": {},
   "outputs": [
    {
     "name": "stdout",
     "output_type": "stream",
     "text": [
      "               Loan ID   Loan Amount  Loan Term  Borrower Credit Score\n",
      "Interest Rate                                                         \n",
      "0.04               6.5  27500.000000       54.0             737.500000\n",
      "0.05               4.0  21666.666667       36.0             725.000000\n",
      "0.06               6.0  27500.000000       44.0             708.333333\n",
      "0.07               6.0  27500.000000       54.0             682.500000\n"
     ]
    }
   ],
   "source": [
    "data = {'Loan ID': [1, 2, 3, 4, 5, 6, 7, 8, 9, 10],\n",
    "        'Loan Amount': [10000, 20000, 15000, 25000, 20000, 17500, 30000, 35000, 40000, 45000],\n",
    "        'Interest Rate': [0.05, 0.06, 0.07, 0.05, 0.04, 0.06, 0.05, 0.04, 0.07, 0.06],\n",
    "        'Loan Term': [36, 60, 48, 36, 60, 36, 36, 48, 60, 36],\n",
    "        'Borrower Credit Score': [700, 750, 675, 725, 700, 650, 750, 775, 690, 725]}\n",
    "df = pd.DataFrame(data)\n",
    "\n",
    "grouped = df.groupby('Interest Rate')\n",
    "\n",
    "grouped_mean = grouped.mean()\n",
    "\n",
    "print(grouped_mean)"
   ]
  },
  {
   "cell_type": "code",
   "execution_count": 8,
   "metadata": {},
   "outputs": [
    {
     "name": "stdout",
     "output_type": "stream",
     "text": [
      "                         Loan ID   Loan Amount  Borrower Credit Score\n",
      "Interest Rate Loan Term                                              \n",
      "0.04          48             8.0  35000.000000                  775.0\n",
      "              60             5.0  20000.000000                  700.0\n",
      "0.05          36             4.0  21666.666667                  725.0\n",
      "0.06          36             8.0  31250.000000                  687.5\n",
      "              60             2.0  20000.000000                  750.0\n",
      "0.07          48             3.0  15000.000000                  675.0\n",
      "              60             9.0  40000.000000                  690.0\n"
     ]
    }
   ],
   "source": [
    "grouped = df.groupby(['Interest Rate','Loan Term'])\n",
    "\n",
    "grouped_mean = grouped.mean()\n",
    "\n",
    "print(grouped_mean)"
   ]
  },
  {
   "cell_type": "code",
   "execution_count": 9,
   "metadata": {},
   "outputs": [
    {
     "name": "stdout",
     "output_type": "stream",
     "text": [
      "   Product ID Product Name  Sales Quantity  Revenue Region  Discount\n",
      "0           1       Laptop              10     1000  North      0.10\n",
      "1           2   Smartphone              15     1500  South      0.15\n",
      "2           4      Printer               5      500   West      0.05\n"
     ]
    }
   ],
   "source": [
    "# First dataset\n",
    "sales_data1 = {\n",
    "    'Product ID': [1, 2, 3, 4, 5],\n",
    "    'Product Name': ['Laptop', 'Smartphone', 'Tablet', 'Printer', 'Monitor'],\n",
    "    'Sales Quantity': [10, 15, 20, 5, 12],\n",
    "    'Revenue': [1000, 1500, 2000, 500, 1200]\n",
    "}\n",
    "\n",
    "df1 = pd.DataFrame(sales_data1)\n",
    "\n",
    "# Second dataset\n",
    "sales_data2 = {\n",
    "    'Product ID': [1, 2, 4, 6, 7],\n",
    "    'Region': ['North', 'South', 'West', 'East', 'North'],\n",
    "    'Discount': [0.1, 0.15, 0.05, 0.05, 0.2]\n",
    "}\n",
    "\n",
    "df2 = pd.DataFrame(sales_data2)\n",
    "\n",
    "# Merge the two datasets based on \"Product ID\"\n",
    "merged_sales_data = pd.merge(df1, df2, on='Product ID')\n",
    "\n",
    "print(merged_sales_data)"
   ]
  },
  {
   "cell_type": "code",
   "execution_count": 10,
   "metadata": {},
   "outputs": [
    {
     "name": "stdout",
     "output_type": "stream",
     "text": [
      "   Loan ID Customer Name,  Loan Amount  Interest Rate      Loan Purpose  \\\n",
      "0        1           John        10000           0.05               NaN   \n",
      "1        2           Jane        20000           0.06         Education   \n",
      "2        3            Jim        15000           0.07  Home Imporovment   \n",
      "3        4           Jill        25000           0.01          Business   \n",
      "4        5           Jack        18000           0.06               NaN   \n",
      "\n",
      "   Loan Term  \n",
      "0        NaN  \n",
      "1        5.0  \n",
      "2       10.0  \n",
      "3       15.0  \n",
      "4        NaN  \n"
     ]
    }
   ],
   "source": [
    "loan_data1={\n",
    "    'Loan ID':[1,2,3,4,5],\n",
    "    'Customer Name,':['John','Jane','Jim','Jill','Jack'],\n",
    "    'Loan Amount':[10000,20000,15000,25000,18000],\n",
    "    \"Interest Rate\":[0.05,0.06,0.07,0.01,0.06]   \n",
    "}\n",
    "\n",
    "df1=pd.DataFrame(loan_data1)\n",
    "\n",
    "\n",
    "loan_data2={\n",
    "    'Loan ID':[2,3,4,6,7],\n",
    "    'Loan Purpose':['Education','Home Imporovment','Business','Vehicle','Personal'],\n",
    "    'Loan Term':[5,10,15,20,25]\n",
    "}\n",
    "\n",
    "df2=pd.DataFrame(loan_data2)\n",
    "\n",
    "\n",
    "result = pd.merge(df1,df2,on='Loan ID',how='left')\n",
    "\n",
    "print(result)"
   ]
  },
  {
   "cell_type": "code",
   "execution_count": 11,
   "metadata": {},
   "outputs": [
    {
     "name": "stdout",
     "output_type": "stream",
     "text": [
      "  Month  Sales Month  Expenses\n",
      "0   Jan   1000   Apr       100\n",
      "1   Feb   2000   May       200\n",
      "2   Mar   3000  June       300\n"
     ]
    }
   ],
   "source": [
    "# Create two sample dataframes\n",
    "df1 = pd.DataFrame({'Month': ['Jan', 'Feb', 'Mar'],\n",
    "                    'Sales': [1000, 2000, 3000]})\n",
    "\n",
    "df2 = pd.DataFrame({'Month': ['Apr', 'May', 'June'],\n",
    "                    'Expenses': [100, 200, 300]})\n",
    "\n",
    "# Concatenate the two dataframes\n",
    "result = pd.concat([df1, df2], axis=1)\n",
    "\n",
    "print(result)"
   ]
  },
  {
   "cell_type": "code",
   "execution_count": 12,
   "metadata": {},
   "outputs": [
    {
     "name": "stdout",
     "output_type": "stream",
     "text": [
      "  Month  Sales Month  Expenses Month  Expenses\n",
      "0   Jan   1000   Apr      4000   Jul      7000\n",
      "1   Feb   2000   May      5000   Aug      8000\n",
      "2   Mar   3000  June      6000   Sep      9000\n"
     ]
    }
   ],
   "source": [
    "# Create two sample dataframes\n",
    "df1 = pd.DataFrame({'Month': ['Jan', 'Feb', 'Mar'],\n",
    "                    'Sales': [1000, 2000, 3000]})\n",
    "\n",
    "df2 = pd.DataFrame({'Month': ['Apr', 'May', 'June'],\n",
    "                    'Expenses': [4000, 5000, 6000]})\n",
    "\n",
    "df3 = pd.DataFrame({'Month': ['Jul','Aug','Sep'],\n",
    "                    'Expenses': [7000, 8000, 9000]})\n",
    "\n",
    "# Concatenate the two dataframes\n",
    "result = pd.concat([df1, df2, df3], axis=1)\n",
    "\n",
    "print(result)"
   ]
  },
  {
   "cell_type": "code",
   "execution_count": 13,
   "metadata": {},
   "outputs": [
    {
     "name": "stdout",
     "output_type": "stream",
     "text": [
      "   fruit_apple  fruit_banana  fruit_orange\n",
      "0            1             0             0\n",
      "1            0             1             0\n",
      "2            0             0             1\n",
      "3            0             1             0\n",
      "4            1             0             0\n",
      "5            0             0             1\n"
     ]
    }
   ],
   "source": [
    "# Sample data with categorical variables\n",
    "data = {'fruit': ['apple', 'banana', 'orange', 'banana', 'apple', 'orange']}\n",
    "\n",
    "# Create a dataframe from the sample data\n",
    "df = pd.DataFrame(data)\n",
    "\n",
    "# Perform one hot encoding on the 'fruit' column\n",
    "df = pd.get_dummies(df, columns=['fruit'])\n",
    "\n",
    "# Check the resulting dataframe\n",
    "print(df)"
   ]
  },
  {
   "attachments": {},
   "cell_type": "markdown",
   "metadata": {},
   "source": [
    "As you can see, the fruit column has been transformed into three separate columns, one for each unique value in the original column. The new columns represent the presence or absence of each value and are indicated by 1s and 0s respectively."
   ]
  },
  {
   "cell_type": "code",
   "execution_count": null,
   "metadata": {},
   "outputs": [],
   "source": []
  }
 ],
 "metadata": {
  "kernelspec": {
   "display_name": ".venv",
   "language": "python",
   "name": "python3"
  },
  "language_info": {
   "codemirror_mode": {
    "name": "ipython",
    "version": 3
   },
   "file_extension": ".py",
   "mimetype": "text/x-python",
   "name": "python",
   "nbconvert_exporter": "python",
   "pygments_lexer": "ipython3",
   "version": "3.11.2"
  },
  "orig_nbformat": 4,
  "vscode": {
   "interpreter": {
    "hash": "4535d1dae638db7b445895e6ef230d0348fe49a8a206bff0c80d37f0f25226b9"
   }
  }
 },
 "nbformat": 4,
 "nbformat_minor": 2
}
