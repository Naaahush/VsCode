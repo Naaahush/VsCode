{
 "cells": [
  {
   "cell_type": "code",
   "execution_count": 1,
   "metadata": {},
   "outputs": [],
   "source": [
    "import pandas as pd\n",
    "import numpy  as np\n",
    "import matplotlib.pyplot as plt\n",
    "import seaborn as sns"
   ]
  },
  {
   "cell_type": "code",
   "execution_count": 2,
   "metadata": {},
   "outputs": [
    {
     "name": "stdout",
     "output_type": "stream",
     "text": [
      "   age    age_group\n",
      "0   25        Young\n",
      "1   30  Middle Aged\n",
      "2   35  Middle Aged\n",
      "3   40       Senior\n",
      "4   45       Senior\n"
     ]
    }
   ],
   "source": [
    "df = pd.DataFrame({'age':[25,30,35,40,45]})\n",
    "\n",
    "bins=[20,30,40,50]\n",
    "\n",
    "labels = ['Young','Middle Aged','Senior']\n",
    "\n",
    "df['age_group'] = pd.cut(df['age'], bins= bins, labels= labels,right=False)\n",
    "\n",
    "print(df)"
   ]
  },
  {
   "cell_type": "code",
   "execution_count": 3,
   "metadata": {},
   "outputs": [
    {
     "name": "stdout",
     "output_type": "stream",
     "text": [
      "   number       bins\n",
      "0      43    41to 60\n",
      "1      29   21 to 40\n",
      "2      84  81 to 100\n",
      "3      91  81 to 100\n",
      "4      75   61 to 80\n",
      "5      38   21 to 40\n",
      "6      56    41to 60\n",
      "7      76   61 to 80\n",
      "8       3    1 to 20\n",
      "9      63   61 to 80\n",
      "['41to 60', '21 to 40', '81 to 100', '61 to 80', '1 to 20']\n",
      "Categories (5, object): ['1 to 20' < '21 to 40' < '41to 60' < '61 to 80' < '81 to 100']\n"
     ]
    }
   ],
   "source": [
    "df1 = pd.DataFrame({'number':np.random.randint(1,100,10)})\n",
    "\n",
    "df1['bins'] = pd.cut(x=df1['number'],bins=[1,20,40,60,80,100],labels=['1 to 20','21 to 40','41to 60','61 to 80','81 to 100'], right=False)\n",
    "\n",
    "print(df1)\n",
    "\n",
    "print(df1['bins'].unique())"
   ]
  },
  {
   "cell_type": "code",
   "execution_count": 4,
   "metadata": {},
   "outputs": [
    {
     "name": "stdout",
     "output_type": "stream",
     "text": [
      "   income Income_group\n",
      "0   50000          Low\n",
      "1   55000       Middle\n",
      "2   60000       Middle\n",
      "3   65000         High\n",
      "4   70000         High\n"
     ]
    }
   ],
   "source": [
    "df = pd.DataFrame({'income':[50000,55000,60000,65000,70000]})\n",
    "\n",
    "bins = [45000,55000,65000,75000]\n",
    "\n",
    "bins_names = ['Low','Middle','High']\n",
    "\n",
    "df['Income_group'] = pd.cut(df['income'], bins= bins, labels= bins_names,right=False)\n",
    "\n",
    "print(df)"
   ]
  },
  {
   "cell_type": "code",
   "execution_count": 5,
   "metadata": {},
   "outputs": [
    {
     "name": "stdout",
     "output_type": "stream",
     "text": [
      "Expense Type  Food  Rent  Transportation\n",
      "Month                                   \n",
      "Feb            400   900             150\n",
      "Jan            500  1000             200\n",
      "Mar            450   800             175\n"
     ]
    }
   ],
   "source": [
    "data = {'Month': ['Jan', 'Jan', 'Jan', 'Feb', 'Feb', 'Feb', 'Mar', 'Mar', 'Mar'],\n",
    "        'Year': [2020, 2020, 2020, 2020, 2020, 2020, 2020, 2020, 2020],\n",
    "        'Expense Type': ['Rent', 'Food', 'Transportation', 'Rent', 'Food', 'Transportation', 'Rent', 'Food', 'Transportation'],\n",
    "        'Expense Amount': [1000, 500, 200, 900, 400, 150, 800, 450, 175]}\n",
    "df = pd.DataFrame(data)\n",
    "\n",
    "pivot_table = df.pivot(index='Month',columns='Expense Type', values='Expense Amount')\n",
    "\n",
    "print(pivot_table)"
   ]
  },
  {
   "cell_type": "code",
   "execution_count": 6,
   "metadata": {},
   "outputs": [
    {
     "name": "stdout",
     "output_type": "stream",
     "text": [
      "Product      A      B      C      D\n",
      "Month                              \n",
      "Apr        NaN  250.0    NaN    NaN\n",
      "Aug        NaN    NaN  350.0    NaN\n",
      "Dec        NaN    NaN    NaN  550.0\n",
      "Feb      200.0    NaN    NaN    NaN\n",
      "Jan      100.0    NaN    NaN    NaN\n",
      "Jul        NaN    NaN  300.0    NaN\n",
      "Jun        NaN  175.0    NaN    NaN\n",
      "Mar      150.0    NaN    NaN    NaN\n",
      "May        NaN  200.0    NaN    NaN\n",
      "Nov        NaN    NaN    NaN  500.0\n",
      "Oct        NaN    NaN    NaN  450.0\n",
      "Sep        NaN    NaN  400.0    NaN\n"
     ]
    }
   ],
   "source": [
    "data = { 'Month': ['Jan','Feb','Mar','Apr','May','Jun','Jul','Aug','Sep','Oct','Nov','Dec'],\n",
    "        'Year':[2020,2020,2020,2020,2020,2020,2020,2020,2020,2020,2020,2020],\n",
    "        'Product': ['A','A','A','B','B','B','C','C','C','D','D','D'],\n",
    "        'Sales': [100,200,150,250,200,175,300,350,400,450,500,550]\n",
    "}\n",
    "# Create a Pandas DataFrame from the data dictionary\n",
    "df =pd.DataFrame(data)\n",
    "\n",
    "pivot_table =  df.pivot(index='Month',columns='Product', values='Sales')\n",
    "print(pivot_table)"
   ]
  },
  {
   "cell_type": "code",
   "execution_count": 7,
   "metadata": {},
   "outputs": [
    {
     "name": "stdout",
     "output_type": "stream",
     "text": [
      "               Loan ID   Loan Amount  Loan Term  Borrower Credit Score\n",
      "Interest Rate                                                         \n",
      "0.04               6.5  27500.000000       54.0             737.500000\n",
      "0.05               4.0  21666.666667       36.0             725.000000\n",
      "0.06               6.0  27500.000000       44.0             708.333333\n",
      "0.07               6.0  27500.000000       54.0             682.500000\n"
     ]
    }
   ],
   "source": [
    "data = {'Loan ID': [1, 2, 3, 4, 5, 6, 7, 8, 9, 10],\n",
    "        'Loan Amount': [10000, 20000, 15000, 25000, 20000, 17500, 30000, 35000, 40000, 45000],\n",
    "        'Interest Rate': [0.05, 0.06, 0.07, 0.05, 0.04, 0.06, 0.05, 0.04, 0.07, 0.06],\n",
    "        'Loan Term': [36, 60, 48, 36, 60, 36, 36, 48, 60, 36],\n",
    "        'Borrower Credit Score': [700, 750, 675, 725, 700, 650, 750, 775, 690, 725]}\n",
    "df = pd.DataFrame(data)\n",
    "\n",
    "grouped = df.groupby('Interest Rate')\n",
    "\n",
    "grouped_mean = grouped.mean()\n",
    "\n",
    "print(grouped_mean)"
   ]
  },
  {
   "cell_type": "code",
   "execution_count": 8,
   "metadata": {},
   "outputs": [
    {
     "name": "stdout",
     "output_type": "stream",
     "text": [
      "                         Loan ID   Loan Amount  Borrower Credit Score\n",
      "Interest Rate Loan Term                                              \n",
      "0.04          48             8.0  35000.000000                  775.0\n",
      "              60             5.0  20000.000000                  700.0\n",
      "0.05          36             4.0  21666.666667                  725.0\n",
      "0.06          36             8.0  31250.000000                  687.5\n",
      "              60             2.0  20000.000000                  750.0\n",
      "0.07          48             3.0  15000.000000                  675.0\n",
      "              60             9.0  40000.000000                  690.0\n"
     ]
    }
   ],
   "source": [
    "grouped = df.groupby(['Interest Rate','Loan Term'])\n",
    "\n",
    "grouped_mean = grouped.mean()\n",
    "\n",
    "print(grouped_mean)"
   ]
  },
  {
   "cell_type": "code",
   "execution_count": 9,
   "metadata": {},
   "outputs": [
    {
     "name": "stdout",
     "output_type": "stream",
     "text": [
      "   Product ID Product Name  Sales Quantity  Revenue Region  Discount\n",
      "0           1       Laptop              10     1000  North      0.10\n",
      "1           2   Smartphone              15     1500  South      0.15\n",
      "2           4      Printer               5      500   West      0.05\n"
     ]
    }
   ],
   "source": [
    "# First dataset\n",
    "sales_data1 = {\n",
    "    'Product ID': [1, 2, 3, 4, 5],\n",
    "    'Product Name': ['Laptop', 'Smartphone', 'Tablet', 'Printer', 'Monitor'],\n",
    "    'Sales Quantity': [10, 15, 20, 5, 12],\n",
    "    'Revenue': [1000, 1500, 2000, 500, 1200]\n",
    "}\n",
    "\n",
    "df1 = pd.DataFrame(sales_data1)\n",
    "\n",
    "# Second dataset\n",
    "sales_data2 = {\n",
    "    'Product ID': [1, 2, 4, 6, 7],\n",
    "    'Region': ['North', 'South', 'West', 'East', 'North'],\n",
    "    'Discount': [0.1, 0.15, 0.05, 0.05, 0.2]\n",
    "}\n",
    "\n",
    "df2 = pd.DataFrame(sales_data2)\n",
    "\n",
    "# Merge the two datasets based on \"Product ID\"\n",
    "merged_sales_data = pd.merge(df1, df2, on='Product ID')\n",
    "\n",
    "print(merged_sales_data)"
   ]
  },
  {
   "cell_type": "code",
   "execution_count": 10,
   "metadata": {},
   "outputs": [
    {
     "name": "stdout",
     "output_type": "stream",
     "text": [
      "   Loan ID Customer Name,  Loan Amount  Interest Rate      Loan Purpose  \\\n",
      "0        1           John        10000           0.05               NaN   \n",
      "1        2           Jane        20000           0.06         Education   \n",
      "2        3            Jim        15000           0.07  Home Imporovment   \n",
      "3        4           Jill        25000           0.01          Business   \n",
      "4        5           Jack        18000           0.06               NaN   \n",
      "\n",
      "   Loan Term  \n",
      "0        NaN  \n",
      "1        5.0  \n",
      "2       10.0  \n",
      "3       15.0  \n",
      "4        NaN  \n"
     ]
    }
   ],
   "source": [
    "loan_data1={\n",
    "    'Loan ID':[1,2,3,4,5],\n",
    "    'Customer Name,':['John','Jane','Jim','Jill','Jack'],\n",
    "    'Loan Amount':[10000,20000,15000,25000,18000],\n",
    "    \"Interest Rate\":[0.05,0.06,0.07,0.01,0.06]   \n",
    "}\n",
    "\n",
    "df1=pd.DataFrame(loan_data1)\n",
    "\n",
    "\n",
    "loan_data2={\n",
    "    'Loan ID':[2,3,4,6,7],\n",
    "    'Loan Purpose':['Education','Home Imporovment','Business','Vehicle','Personal'],\n",
    "    'Loan Term':[5,10,15,20,25]\n",
    "}\n",
    "\n",
    "df2=pd.DataFrame(loan_data2)\n",
    "\n",
    "\n",
    "result = pd.merge(df1,df2,on='Loan ID',how='left')\n",
    "\n",
    "print(result)"
   ]
  },
  {
   "cell_type": "code",
   "execution_count": 11,
   "metadata": {},
   "outputs": [
    {
     "name": "stdout",
     "output_type": "stream",
     "text": [
      "  Month  Sales Month  Expenses\n",
      "0   Jan   1000   Apr       100\n",
      "1   Feb   2000   May       200\n",
      "2   Mar   3000  June       300\n"
     ]
    }
   ],
   "source": [
    "# Create two sample dataframes\n",
    "df1 = pd.DataFrame({'Month': ['Jan', 'Feb', 'Mar'],\n",
    "                    'Sales': [1000, 2000, 3000]})\n",
    "\n",
    "df2 = pd.DataFrame({'Month': ['Apr', 'May', 'June'],\n",
    "                    'Expenses': [100, 200, 300]})\n",
    "\n",
    "# Concatenate the two dataframes\n",
    "result = pd.concat([df1, df2], axis=1)\n",
    "\n",
    "print(result)"
   ]
  },
  {
   "cell_type": "code",
   "execution_count": 12,
   "metadata": {},
   "outputs": [
    {
     "name": "stdout",
     "output_type": "stream",
     "text": [
      "  Month  Sales Month  Expenses Month  Expenses\n",
      "0   Jan   1000   Apr      4000   Jul      7000\n",
      "1   Feb   2000   May      5000   Aug      8000\n",
      "2   Mar   3000  June      6000   Sep      9000\n"
     ]
    }
   ],
   "source": [
    "# Create two sample dataframes\n",
    "df1 = pd.DataFrame({'Month': ['Jan', 'Feb', 'Mar'],\n",
    "                    'Sales': [1000, 2000, 3000]})\n",
    "\n",
    "df2 = pd.DataFrame({'Month': ['Apr', 'May', 'June'],\n",
    "                    'Expenses': [4000, 5000, 6000]})\n",
    "\n",
    "df3 = pd.DataFrame({'Month': ['Jul','Aug','Sep'],\n",
    "                    'Expenses': [7000, 8000, 9000]})\n",
    "\n",
    "# Concatenate the two dataframes\n",
    "result = pd.concat([df1, df2, df3], axis=1)\n",
    "\n",
    "print(result)"
   ]
  },
  {
   "cell_type": "code",
   "execution_count": 13,
   "metadata": {},
   "outputs": [
    {
     "name": "stdout",
     "output_type": "stream",
     "text": [
      "   fruit_apple  fruit_banana  fruit_orange\n",
      "0            1             0             0\n",
      "1            0             1             0\n",
      "2            0             0             1\n",
      "3            0             1             0\n",
      "4            1             0             0\n",
      "5            0             0             1\n"
     ]
    }
   ],
   "source": [
    "#ONE HOT ENCODING\n",
    "\n",
    "\n",
    "# Sample data with categorical variables\n",
    "data = {'fruit': ['apple', 'banana', 'orange', 'banana', 'apple', 'orange']}\n",
    "\n",
    "# Create a dataframe from the sample data\n",
    "df = pd.DataFrame(data)\n",
    "\n",
    "# Perform one hot encoding on the 'fruit' column\n",
    "df = pd.get_dummies(df, columns=['fruit'])\n",
    "\n",
    "# Check the resulting dataframe\n",
    "print(df)"
   ]
  },
  {
   "attachments": {},
   "cell_type": "markdown",
   "metadata": {},
   "source": [
    "As you can see, the fruit column has been transformed into three separate columns, one for each unique value in the original column. The new columns represent the presence or absence of each value and are indicated by 1s and 0s respectively."
   ]
  },
  {
   "attachments": {},
   "cell_type": "markdown",
   "metadata": {},
   "source": [
    "# Label Encoding"
   ]
  },
  {
   "cell_type": "code",
   "execution_count": 15,
   "metadata": {},
   "outputs": [
    {
     "name": "stdout",
     "output_type": "stream",
     "text": [
      "   fruit\n",
      "0      0\n",
      "1      1\n",
      "2      2\n",
      "3      1\n",
      "4      0\n",
      "5      2\n"
     ]
    }
   ],
   "source": [
    "from sklearn.preprocessing import LabelEncoder\n",
    "\n",
    "data = {'fruit': ['apple', 'banana', 'orange', 'banana', 'apple', 'orange']}\n",
    "\n",
    "df =pd.DataFrame(data)\n",
    "\n",
    "encoder = LabelEncoder()\n",
    "\n",
    "df['fruit'] = encoder.fit_transform(df['fruit'])\n",
    "\n",
    "print(df)"
   ]
  },
  {
   "attachments": {},
   "cell_type": "markdown",
   "metadata": {},
   "source": [
    "1. Make a pandas DataFrame with two dimentions of list"
   ]
  },
  {
   "cell_type": "code",
   "execution_count": 19,
   "metadata": {},
   "outputs": [],
   "source": [
    "lst = [['Pandas', 25],\n",
    "['is',30],['for', 26], ['Data Analysis',22]]\n",
    "\n",
    "\n",
    "df = pd.DataFrame(lst, columns=['Tag','number'])\n",
    "df1 = pd.DataFrame(lst)"
   ]
  },
  {
   "cell_type": "code",
   "execution_count": 20,
   "metadata": {},
   "outputs": [
    {
     "name": "stdout",
     "output_type": "stream",
     "text": [
      "             Tag  number\n",
      "0         Pandas      25\n",
      "1             is      30\n",
      "2            for      26\n",
      "3  Data Analysis      22\n",
      "               0   1\n",
      "0         Pandas  25\n",
      "1             is  30\n",
      "2            for  26\n",
      "3  Data Analysis  22\n"
     ]
    }
   ],
   "source": [
    "print(df)\n",
    "print(df1)"
   ]
  },
  {
   "attachments": {},
   "cell_type": "markdown",
   "metadata": {},
   "source": [
    "2. Creating DataFrame From Dictionary of lists"
   ]
  },
  {
   "cell_type": "code",
   "execution_count": 25,
   "metadata": {},
   "outputs": [
    {
     "name": "stdout",
     "output_type": "stream",
     "text": [
      "    Area  Marks\n",
      "0  Array     20\n",
      "1  Stack     21\n",
      "2  Queue     19\n",
      "\n",
      "\n",
      "        Area  Student_1  Student_2\n",
      "Cat_1  Array         20         15\n",
      "Cat_2  Stack         21         20\n",
      "Cat_3  Queue         19         14\n",
      "\n",
      "\n",
      "           Cat_1  Cat_2  Cat_3\n",
      "Area       Array  Stack  Queue\n",
      "Student_1     20     21     19\n",
      "Student_2     15     20     14\n"
     ]
    }
   ],
   "source": [
    "data = {'Area':['Array','Stack','Queue'],\n",
    "        'Student_1':[20,21,19],\n",
    "        'Student_2':[15,20,14]}\n",
    "\n",
    "data1 = {'Area':['Array','Stack','Queue'],\n",
    "        'Marks':[20,21,19]}\n",
    "\n",
    "df = pd.DataFrame(data,index=['Cat_1','Cat_2','Cat_3'])\n",
    "\n",
    "\n",
    "df1 = pd.DataFrame(data1)\n",
    "\n",
    "print(df1)\n",
    "print('\\n')\n",
    "print(df)\n",
    "print('\\n')\n",
    "print(df.transpose())"
   ]
  },
  {
   "attachments": {},
   "cell_type": "markdown",
   "metadata": {},
   "source": [
    "3. Creating pandas dataframe using list of lists."
   ]
  },
  {
   "cell_type": "code",
   "execution_count": 26,
   "metadata": {},
   "outputs": [
    {
     "name": "stdout",
     "output_type": "stream",
     "text": [
      "  Category         Name  Marks\n",
      "0       DS  Linked_list     10\n",
      "1       DS        Stack      9\n",
      "2       DS        Queue      7\n",
      "3     Algo       Greedy      8\n",
      "4     Algo           DP      6\n",
      "5     Algo    BackTrack      5\n"
     ]
    }
   ],
   "source": [
    "data = [['DS', 'Linked_list', 10],\n",
    "        ['DS', 'Stack', 9], \n",
    "        ['DS', 'Queue', 7],\n",
    "        ['Algo', 'Greedy', 8], \n",
    "        ['Algo', 'DP', 6], \n",
    "        ['Algo', 'BackTrack', 5], ]\n",
    " \n",
    "# Create the pandas DataFrame\n",
    "df = pd.DataFrame(data, columns = ['Category', 'Name', 'Marks'])\n",
    " \n",
    "# print dataframe.\n",
    "print(df)"
   ]
  },
  {
   "cell_type": "code",
   "execution_count": 28,
   "metadata": {},
   "outputs": [
    {
     "name": "stdout",
     "output_type": "stream",
     "text": [
      "   0  1   2\n",
      "0  1  5  10\n",
      "1  2  6   9\n",
      "2  3  7   8\n",
      "   Col_1  Col_2  Col_3\n",
      "0      1      5     10\n",
      "1      2      6      9\n",
      "2      3      7      8 \n",
      "\n",
      "The transposed DataFrame is- \n",
      "         0  1  2\n",
      "Col_1   1  2  3\n",
      "Col_2   5  6  7\n",
      "Col_3  10  9  8\n"
     ]
    }
   ],
   "source": [
    "data = [[1,5,10],[2,6,9],[3,7,8]]\n",
    "\n",
    "df = pd.DataFrame(data)\n",
    "\n",
    "print(df)\n",
    "\n",
    "\n",
    "df.columns = ['Col_1','Col_2','Col_3']\n",
    "\n",
    "print(df, '\\n')\n",
    "\n",
    "df = df.transpose()\n",
    "\n",
    "print('The transposed DataFrame is- \\n',df)"
   ]
  },
  {
   "attachments": {},
   "cell_type": "markdown",
   "metadata": {},
   "source": [
    "4. Creating pandas DataFrame from list of tuples"
   ]
  },
  {
   "cell_type": "code",
   "execution_count": 33,
   "metadata": {},
   "outputs": [
    {
     "name": "stdout",
     "output_type": "stream",
     "text": [
      "     Name  Age  Score\n",
      "0   Peter   18      7\n",
      "1    Riff   15      6\n",
      "2    John   17      8\n",
      "3  Michel   18      7\n",
      "4   Sheli   17      5 \n",
      "\n",
      "     Team  Age  Score\n",
      "0   Peter   18      7\n",
      "1    Riff   15      6\n",
      "2    John   17      8\n",
      "3  Michel   18      7\n",
      "4   Sheli   17      5\n"
     ]
    }
   ],
   "source": [
    "data = [('Peter', 18,7),\n",
    "        ('Riff',15,6),\n",
    "        ('John',17,8),\n",
    "        ('Michel',18,7),\n",
    "        ('Sheli',17,5)]\n",
    "\n",
    "df = pd.DataFrame(data,columns=['Name', 'Age','Score'])\n",
    "\n",
    "print(df, '\\n')\n",
    "\n",
    "\n",
    "df1 = pd.DataFrame.from_records(data,columns=['Team', 'Age','Score'])\n",
    "\n",
    "print(df1)"
   ]
  },
  {
   "attachments": {},
   "cell_type": "markdown",
   "metadata": {},
   "source": [
    "5. Creating pandas DataFrame from list of dicts"
   ]
  },
  {
   "cell_type": "code",
   "execution_count": 37,
   "metadata": {},
   "outputs": [
    {
     "name": "stdout",
     "output_type": "stream",
     "text": [
      "      pandas  numpy    kaggle\n",
      "1  dataframe  array  notebook\n",
      "2         10     20        30 \n",
      "\n",
      "      pandas  numpy    kaggle\n",
      "0  dataframe  array  notebook\n",
      "1         10     20        30\n",
      "\n",
      "       pandas  numpy    kaggle\n",
      "0  dataframe  array  notebook\n",
      "1         10     20        30\n"
     ]
    }
   ],
   "source": [
    "#method 1\n",
    "\n",
    "\n",
    "data = [{'pandas':'dataframe', 'numpy':'array', 'kaggle':'notebook'}, {'pandas':10, 'numpy':20, 'kaggle':30}]\n",
    "\n",
    "df = pd.DataFrame.from_records(data, index =['1','2'])\n",
    "\n",
    "print(df,'\\n')\n",
    "\n",
    "#method 2\n",
    "\n",
    "df = pd.DataFrame.from_dict(data)\n",
    "print(df)\n",
    "\n",
    "#method 3\n",
    "\n",
    "\n",
    "df = pd.json_normalize(data)\n",
    "\n",
    "print('\\n',df)"
   ]
  },
  {
   "attachments": {},
   "cell_type": "markdown",
   "metadata": {},
   "source": [
    "6. convert list of nested dictionary into pandas data frame"
   ]
  },
  {
   "cell_type": "code",
   "execution_count": 39,
   "metadata": {},
   "outputs": [
    {
     "name": "stdout",
     "output_type": "stream",
     "text": [
      "[{'Student': [{'Exam': 90, 'Grade': 'a'}, {'Exam': 99, 'Grade': 'b'}, {'Exam': 97, 'Grade': 'c'}], 'Name': 'Paras Jain'}, {'Student': [{'Exam': 89, 'Grade': 'a'}, {'Exam': 80, 'Grade': 'b'}], 'Name': 'Chunky Pandey'}]\n",
      "   Exam Grade           Name\n",
      "0    90     a     Paras Jain\n",
      "1    99     b     Paras Jain\n",
      "2    97     c     Paras Jain\n",
      "3    89     a  Chunky Pandey\n",
      "4    80     b  Chunky Pandey \n",
      "\n",
      "   Exam Grade           Name\n",
      "0    90     a     Paras Jain\n",
      "1    99     b     Paras Jain\n",
      "2    97     c     Paras Jain\n",
      "3    89     a  Chunky Pandey\n",
      "4    80     b  Chunky Pandey\n"
     ]
    }
   ],
   "source": [
    "# List of nested dictionary initialization\n",
    "list = [\n",
    "        {\n",
    "        \"Student\": [{\"Exam\": 90, \"Grade\": \"a\"},\n",
    "                    {\"Exam\": 99, \"Grade\": \"b\"},\n",
    "                    {\"Exam\": 97, \"Grade\": \"c\"},\n",
    "                   ],\n",
    "        \"Name\": \"Paras Jain\"\n",
    "        },\n",
    "        {\n",
    "        \"Student\": [{\"Exam\": 89, \"Grade\": \"a\"},\n",
    "                    {\"Exam\": 80, \"Grade\": \"b\"}\n",
    "                   ],\n",
    "        \"Name\": \"Chunky Pandey\"\n",
    "        }\n",
    "       ]\n",
    "print(list)\n",
    "\n",
    "# rows list initialization\n",
    "rows = []  \n",
    "# appending rows\n",
    "for data in list:\n",
    "    data_row = data['Student']\n",
    "    time = data['Name']\n",
    "    for row in data_row:\n",
    "        row['Name']= time\n",
    "        rows.append(row) \n",
    "\n",
    "# using data frame\n",
    "df = pd.DataFrame(rows)\n",
    "  \n",
    "print(df,'\\n')\n",
    "\n",
    "\n",
    "#row initialization\n",
    "\n",
    "rows=[]\n",
    "\n",
    "for data in list:\n",
    "    data_row = data[\"Student\"]\n",
    "    time = data['Name']\n",
    "    for row in data_row:\n",
    "        row['Name']= time\n",
    "        rows.append(row) \n",
    "\n",
    "# using data frame\n",
    "df = pd.DataFrame(rows)\n",
    "  \n",
    "print(df)"
   ]
  },
  {
   "cell_type": "code",
   "execution_count": null,
   "metadata": {},
   "outputs": [],
   "source": [
    "#try list comprehension approach"
   ]
  },
  {
   "attachments": {},
   "cell_type": "markdown",
   "metadata": {},
   "source": [
    "7. Clean the string data in the given pandas dataframe"
   ]
  },
  {
   "cell_type": "code",
   "execution_count": 40,
   "metadata": {},
   "outputs": [
    {
     "name": "stdout",
     "output_type": "stream",
     "text": [
      "        Date     Product  Updated_Price  Discount\n",
      "0  10/2/2011    UMbreLla           1250        10\n",
      "1  11/2/2011     maTress           1450         8\n",
      "2  12/2/2011  BaDmintoN            1550        15\n",
      "3  13/2/2011     Shuttle            400        10\n"
     ]
    }
   ],
   "source": [
    "import pandas as pd\n",
    "# Create the dataframe\n",
    "df = pd.DataFrame({'Date':['10/2/2011', '11/2/2011', '12/2/2011', '13/2/2011'],\n",
    "                   'Product':[' UMbreLla', '  maTress', 'BaDmintoN ', 'Shuttle'],\n",
    "                   'Updated_Price':[1250, 1450, 1550, 400],\n",
    "                   'Discount':[10, 8, 15, 10]})\n",
    "  \n",
    "# Print the dataframe\n",
    "print(df)"
   ]
  },
  {
   "cell_type": "code",
   "execution_count": 41,
   "metadata": {},
   "outputs": [
    {
     "name": "stdout",
     "output_type": "stream",
     "text": [
      "        Date    Product  Updated_Price  Discount\n",
      "0  10/2/2011   Umbrella           1250        10\n",
      "1  11/2/2011    Matress           1450         8\n",
      "2  12/2/2011  Badminton           1550        15\n",
      "3  13/2/2011    Shuttle            400        10\n"
     ]
    }
   ],
   "source": [
    "def format_data(df):\n",
    "    for i in range(df.shape[0]):\n",
    "        #first we reassign the values to the product column\n",
    "        # we first strip the whitespaces using strip() method\n",
    "        # then we capitalize the first letter using capitalizaion function\n",
    "        df.iat[i,1] = df.iat[i,1].strip().capitalize()\n",
    "        #the capitalize() method returns a string where the first character is upper case\n",
    "\n",
    "format_data(df)\n",
    "\n",
    "print(df)"
   ]
  },
  {
   "cell_type": "code",
   "execution_count": 42,
   "metadata": {},
   "outputs": [
    {
     "name": "stdout",
     "output_type": "stream",
     "text": [
      "        Date     Product  Updated_Price  Discount\n",
      "0  10/2/2011    UMbreLla           1250        10\n",
      "1  11/2/2011     maTress           1450         8\n",
      "2  12/2/2011  BaDmintoN            1550        15\n",
      "3  13/2/2011     Shuttle            400        10\n"
     ]
    }
   ],
   "source": [
    "import pandas as pd\n",
    "# Create the dataframe\n",
    "df = pd.DataFrame({'Date':['10/2/2011', '11/2/2011', '12/2/2011', '13/2/2011'],\n",
    "                   'Product':[' UMbreLla', '  maTress', 'BaDmintoN ', 'Shuttle'],\n",
    "                   'Updated_Price':[1250, 1450, 1550, 400],\n",
    "                   'Discount':[10, 8, 15, 10]})\n",
    "  \n",
    "# Print the dataframe\n",
    "print(df)"
   ]
  },
  {
   "cell_type": "code",
   "execution_count": 43,
   "metadata": {},
   "outputs": [
    {
     "name": "stdout",
     "output_type": "stream",
     "text": [
      "        Date    Product  Updated_Price  Discount\n",
      "0  10/2/2011   Umbrella           1250        10\n",
      "1  11/2/2011    Matress           1450         8\n",
      "2  12/2/2011  Badminton           1550        15\n",
      "3  13/2/2011    Shuttle            400        10\n"
     ]
    }
   ],
   "source": [
    "df['Product'] = df['Product'].apply(lambda x: x.strip().capitalize())\n",
    "\n",
    "print(df)"
   ]
  },
  {
   "attachments": {},
   "cell_type": "markdown",
   "metadata": {},
   "source": [
    "#### reindexing of dataframe"
   ]
  },
  {
   "cell_type": "code",
   "execution_count": 44,
   "metadata": {},
   "outputs": [],
   "source": [
    "column = ['a','b','c','d','e']\n",
    "index = ['A','B','C','D','E']\n",
    "\n",
    "df1 = pd.DataFrame(np.random.rand(5,5),columns=column, index= index)"
   ]
  },
  {
   "cell_type": "code",
   "execution_count": 45,
   "metadata": {},
   "outputs": [
    {
     "name": "stdout",
     "output_type": "stream",
     "text": [
      "          a         b         c         d         e\n",
      "A  0.303365  0.481289  0.402994  0.934662  0.159820\n",
      "B  0.159561  0.161219  0.769658  0.823251  0.390539\n",
      "C  0.661944  0.607131  0.150952  0.985098  0.677170\n",
      "D  0.379315  0.666416  0.473696  0.476067  0.414470\n",
      "E  0.487847  0.657828  0.878976  0.311978  0.792442\n"
     ]
    }
   ],
   "source": [
    "print(df1)"
   ]
  },
  {
   "cell_type": "code",
   "execution_count": 46,
   "metadata": {},
   "outputs": [
    {
     "data": {
      "text/html": [
       "<div>\n",
       "<style scoped>\n",
       "    .dataframe tbody tr th:only-of-type {\n",
       "        vertical-align: middle;\n",
       "    }\n",
       "\n",
       "    .dataframe tbody tr th {\n",
       "        vertical-align: top;\n",
       "    }\n",
       "\n",
       "    .dataframe thead th {\n",
       "        text-align: right;\n",
       "    }\n",
       "</style>\n",
       "<table border=\"1\" class=\"dataframe\">\n",
       "  <thead>\n",
       "    <tr style=\"text-align: right;\">\n",
       "      <th></th>\n",
       "      <th>a</th>\n",
       "      <th>b</th>\n",
       "      <th>c</th>\n",
       "      <th>d</th>\n",
       "      <th>e</th>\n",
       "    </tr>\n",
       "  </thead>\n",
       "  <tbody>\n",
       "    <tr>\n",
       "      <th>B</th>\n",
       "      <td>0.159561</td>\n",
       "      <td>0.161219</td>\n",
       "      <td>0.769658</td>\n",
       "      <td>0.823251</td>\n",
       "      <td>0.390539</td>\n",
       "    </tr>\n",
       "    <tr>\n",
       "      <th>D</th>\n",
       "      <td>0.379315</td>\n",
       "      <td>0.666416</td>\n",
       "      <td>0.473696</td>\n",
       "      <td>0.476067</td>\n",
       "      <td>0.414470</td>\n",
       "    </tr>\n",
       "    <tr>\n",
       "      <th>A</th>\n",
       "      <td>0.303365</td>\n",
       "      <td>0.481289</td>\n",
       "      <td>0.402994</td>\n",
       "      <td>0.934662</td>\n",
       "      <td>0.159820</td>\n",
       "    </tr>\n",
       "    <tr>\n",
       "      <th>C</th>\n",
       "      <td>0.661944</td>\n",
       "      <td>0.607131</td>\n",
       "      <td>0.150952</td>\n",
       "      <td>0.985098</td>\n",
       "      <td>0.677170</td>\n",
       "    </tr>\n",
       "    <tr>\n",
       "      <th>E</th>\n",
       "      <td>0.487847</td>\n",
       "      <td>0.657828</td>\n",
       "      <td>0.878976</td>\n",
       "      <td>0.311978</td>\n",
       "      <td>0.792442</td>\n",
       "    </tr>\n",
       "  </tbody>\n",
       "</table>\n",
       "</div>"
      ],
      "text/plain": [
       "          a         b         c         d         e\n",
       "B  0.159561  0.161219  0.769658  0.823251  0.390539\n",
       "D  0.379315  0.666416  0.473696  0.476067  0.414470\n",
       "A  0.303365  0.481289  0.402994  0.934662  0.159820\n",
       "C  0.661944  0.607131  0.150952  0.985098  0.677170\n",
       "E  0.487847  0.657828  0.878976  0.311978  0.792442"
      ]
     },
     "execution_count": 46,
     "metadata": {},
     "output_type": "execute_result"
    }
   ],
   "source": [
    "df1.reindex(['B','D','A','C','E'])"
   ]
  },
  {
   "cell_type": "code",
   "execution_count": 47,
   "metadata": {},
   "outputs": [
    {
     "name": "stdout",
     "output_type": "stream",
     "text": [
      "          a         b         c         d         e\n",
      "U       NaN       NaN       NaN       NaN       NaN\n",
      "A  0.303365  0.481289  0.402994  0.934662  0.159820\n",
      "B  0.159561  0.161219  0.769658  0.823251  0.390539\n",
      "C  0.661944  0.607131  0.150952  0.985098  0.677170\n",
      "Z       NaN       NaN       NaN       NaN       NaN\n"
     ]
    }
   ],
   "source": [
    "#method 2\n",
    "\n",
    "new_index =['U','A','B','C','Z']\n",
    "\n",
    "print(df1.reindex(new_index))"
   ]
  },
  {
   "cell_type": "code",
   "execution_count": 49,
   "metadata": {},
   "outputs": [
    {
     "ename": "ValueError",
     "evalue": "No axis named column for object type DataFrame",
     "output_type": "error",
     "traceback": [
      "\u001b[1;31m---------------------------------------------------------------------------\u001b[0m",
      "\u001b[1;31mKeyError\u001b[0m                                  Traceback (most recent call last)",
      "File \u001b[1;32mc:\\VsCode\\.venv\\Lib\\site-packages\\pandas\\core\\generic.py:554\u001b[0m, in \u001b[0;36mNDFrame._get_axis_number\u001b[1;34m(cls, axis)\u001b[0m\n\u001b[0;32m    553\u001b[0m \u001b[39mtry\u001b[39;00m:\n\u001b[1;32m--> 554\u001b[0m     \u001b[39mreturn\u001b[39;00m \u001b[39mcls\u001b[39;49m\u001b[39m.\u001b[39;49m_AXIS_TO_AXIS_NUMBER[axis]\n\u001b[0;32m    555\u001b[0m \u001b[39mexcept\u001b[39;00m \u001b[39mKeyError\u001b[39;00m:\n",
      "\u001b[1;31mKeyError\u001b[0m: 'column'",
      "\nDuring handling of the above exception, another exception occurred:\n",
      "\u001b[1;31mValueError\u001b[0m                                Traceback (most recent call last)",
      "Cell \u001b[1;32mIn[49], line 9\u001b[0m\n\u001b[0;32m      4\u001b[0m df1 \u001b[39m=\u001b[39m pd\u001b[39m.\u001b[39mDataFrame(np\u001b[39m.\u001b[39mrandom\u001b[39m.\u001b[39mrand(\u001b[39m5\u001b[39m,\u001b[39m5\u001b[39m),columns\u001b[39m=\u001b[39mcolumn, index\u001b[39m=\u001b[39m index)\n\u001b[0;32m      7\u001b[0m column \u001b[39m=\u001b[39m [\u001b[39m'\u001b[39m\u001b[39me\u001b[39m\u001b[39m'\u001b[39m,\u001b[39m'\u001b[39m\u001b[39ma\u001b[39m\u001b[39m'\u001b[39m,\u001b[39m'\u001b[39m\u001b[39mb\u001b[39m\u001b[39m'\u001b[39m,\u001b[39m'\u001b[39m\u001b[39mc\u001b[39m\u001b[39m'\u001b[39m,\u001b[39m'\u001b[39m\u001b[39md\u001b[39m\u001b[39m'\u001b[39m]\n\u001b[1;32m----> 9\u001b[0m \u001b[39mprint\u001b[39m(df1\u001b[39m.\u001b[39;49mreindex(column, axis\u001b[39m=\u001b[39;49m\u001b[39m'\u001b[39;49m\u001b[39mcolumn\u001b[39;49m\u001b[39m'\u001b[39;49m))\n",
      "File \u001b[1;32mc:\\VsCode\\.venv\\Lib\\site-packages\\pandas\\util\\_decorators.py:347\u001b[0m, in \u001b[0;36mrewrite_axis_style_signature.<locals>.decorate.<locals>.wrapper\u001b[1;34m(*args, **kwargs)\u001b[0m\n\u001b[0;32m    345\u001b[0m \u001b[39m@wraps\u001b[39m(func)\n\u001b[0;32m    346\u001b[0m \u001b[39mdef\u001b[39;00m \u001b[39mwrapper\u001b[39m(\u001b[39m*\u001b[39margs, \u001b[39m*\u001b[39m\u001b[39m*\u001b[39mkwargs) \u001b[39m-\u001b[39m\u001b[39m>\u001b[39m Callable[\u001b[39m.\u001b[39m\u001b[39m.\u001b[39m\u001b[39m.\u001b[39m, Any]:\n\u001b[1;32m--> 347\u001b[0m     \u001b[39mreturn\u001b[39;00m func(\u001b[39m*\u001b[39;49margs, \u001b[39m*\u001b[39;49m\u001b[39m*\u001b[39;49mkwargs)\n",
      "File \u001b[1;32mc:\\VsCode\\.venv\\Lib\\site-packages\\pandas\\core\\frame.py:5200\u001b[0m, in \u001b[0;36mDataFrame.reindex\u001b[1;34m(self, *args, **kwargs)\u001b[0m\n\u001b[0;32m   5186\u001b[0m \u001b[39m@Substitution\u001b[39m(\u001b[39m*\u001b[39m\u001b[39m*\u001b[39m_shared_doc_kwargs)\n\u001b[0;32m   5187\u001b[0m \u001b[39m@Appender\u001b[39m(NDFrame\u001b[39m.\u001b[39mreindex\u001b[39m.\u001b[39m\u001b[39m__doc__\u001b[39m)\n\u001b[0;32m   5188\u001b[0m \u001b[39m@rewrite_axis_style_signature\u001b[39m(\n\u001b[1;32m   (...)\u001b[0m\n\u001b[0;32m   5198\u001b[0m )\n\u001b[0;32m   5199\u001b[0m \u001b[39mdef\u001b[39;00m \u001b[39mreindex\u001b[39m(\u001b[39mself\u001b[39m, \u001b[39m*\u001b[39margs, \u001b[39m*\u001b[39m\u001b[39m*\u001b[39mkwargs) \u001b[39m-\u001b[39m\u001b[39m>\u001b[39m DataFrame:\n\u001b[1;32m-> 5200\u001b[0m     axes \u001b[39m=\u001b[39m validate_axis_style_args(\u001b[39mself\u001b[39;49m, args, kwargs, \u001b[39m\"\u001b[39;49m\u001b[39mlabels\u001b[39;49m\u001b[39m\"\u001b[39;49m, \u001b[39m\"\u001b[39;49m\u001b[39mreindex\u001b[39;49m\u001b[39m\"\u001b[39;49m)\n\u001b[0;32m   5201\u001b[0m     kwargs\u001b[39m.\u001b[39mupdate(axes)\n\u001b[0;32m   5202\u001b[0m     \u001b[39m# Pop these, since the values are in `kwargs` under different names\u001b[39;00m\n",
      "File \u001b[1;32mc:\\VsCode\\.venv\\Lib\\site-packages\\pandas\\util\\_validators.py:342\u001b[0m, in \u001b[0;36mvalidate_axis_style_args\u001b[1;34m(data, args, kwargs, arg_name, method_name)\u001b[0m\n\u001b[0;32m    340\u001b[0m     \u001b[39mpass\u001b[39;00m  \u001b[39m# It's up to the function to decide if this is valid\u001b[39;00m\n\u001b[0;32m    341\u001b[0m \u001b[39melif\u001b[39;00m \u001b[39mlen\u001b[39m(args) \u001b[39m==\u001b[39m \u001b[39m1\u001b[39m:\n\u001b[1;32m--> 342\u001b[0m     axis \u001b[39m=\u001b[39m data\u001b[39m.\u001b[39;49m_get_axis_name(kwargs\u001b[39m.\u001b[39;49mget(\u001b[39m\"\u001b[39;49m\u001b[39maxis\u001b[39;49m\u001b[39m\"\u001b[39;49m, \u001b[39m0\u001b[39;49m))\n\u001b[0;32m    343\u001b[0m     out[axis] \u001b[39m=\u001b[39m args[\u001b[39m0\u001b[39m]\n\u001b[0;32m    344\u001b[0m \u001b[39melif\u001b[39;00m \u001b[39mlen\u001b[39m(args) \u001b[39m==\u001b[39m \u001b[39m2\u001b[39m:\n",
      "File \u001b[1;32mc:\\VsCode\\.venv\\Lib\\site-packages\\pandas\\core\\generic.py:561\u001b[0m, in \u001b[0;36mNDFrame._get_axis_name\u001b[1;34m(cls, axis)\u001b[0m\n\u001b[0;32m    558\u001b[0m \u001b[39m@final\u001b[39m\n\u001b[0;32m    559\u001b[0m \u001b[39m@classmethod\u001b[39m\n\u001b[0;32m    560\u001b[0m \u001b[39mdef\u001b[39;00m \u001b[39m_get_axis_name\u001b[39m(\u001b[39mcls\u001b[39m, axis: Axis) \u001b[39m-\u001b[39m\u001b[39m>\u001b[39m \u001b[39mstr\u001b[39m:\n\u001b[1;32m--> 561\u001b[0m     axis_number \u001b[39m=\u001b[39m \u001b[39mcls\u001b[39;49m\u001b[39m.\u001b[39;49m_get_axis_number(axis)\n\u001b[0;32m    562\u001b[0m     \u001b[39mreturn\u001b[39;00m \u001b[39mcls\u001b[39m\u001b[39m.\u001b[39m_AXIS_ORDERS[axis_number]\n",
      "File \u001b[1;32mc:\\VsCode\\.venv\\Lib\\site-packages\\pandas\\core\\generic.py:556\u001b[0m, in \u001b[0;36mNDFrame._get_axis_number\u001b[1;34m(cls, axis)\u001b[0m\n\u001b[0;32m    554\u001b[0m     \u001b[39mreturn\u001b[39;00m \u001b[39mcls\u001b[39m\u001b[39m.\u001b[39m_AXIS_TO_AXIS_NUMBER[axis]\n\u001b[0;32m    555\u001b[0m \u001b[39mexcept\u001b[39;00m \u001b[39mKeyError\u001b[39;00m:\n\u001b[1;32m--> 556\u001b[0m     \u001b[39mraise\u001b[39;00m \u001b[39mValueError\u001b[39;00m(\u001b[39mf\u001b[39m\u001b[39m\"\u001b[39m\u001b[39mNo axis named \u001b[39m\u001b[39m{\u001b[39;00maxis\u001b[39m}\u001b[39;00m\u001b[39m for object type \u001b[39m\u001b[39m{\u001b[39;00m\u001b[39mcls\u001b[39m\u001b[39m.\u001b[39m\u001b[39m__name__\u001b[39m\u001b[39m}\u001b[39;00m\u001b[39m\"\u001b[39m)\n",
      "\u001b[1;31mValueError\u001b[0m: No axis named column for object type DataFrame"
     ]
    }
   ],
   "source": [
    "column = ['a','b','c','d','e']\n",
    "index = ['A','B','C','D','E']\n",
    "\n",
    "df1 = pd.DataFrame(np.random.rand(5,5),columns=column, index= index)\n",
    "\n",
    "\n",
    "column = ['e','a','b','c','d']\n",
    "\n",
    "print(df1.reindex(column, axis='column'))"
   ]
  },
  {
   "attachments": {},
   "cell_type": "markdown",
   "metadata": {},
   "source": [
    "Mapping External values to dataframe values in pandas"
   ]
  },
  {
   "cell_type": "code",
   "execution_count": null,
   "metadata": {},
   "outputs": [],
   "source": [
    "initial_data = {'First_name': ['Ram','Mohan', 'Tina', 'Jeetu', 'Meera'],\n",
    "                'Last_name':['Kumar','Sharma','Ali','Gandhi','Bihar'],\n",
    "                'Age': [42,52,36,21,23],\n",
    "                'City':['Mumbai','Noida','Pune','Delhi','Bihar']}\n",
    "\n",
    "df = pd.DataFrame(initial_data)"
   ]
  }
 ],
 "metadata": {
  "kernelspec": {
   "display_name": ".venv",
   "language": "python",
   "name": "python3"
  },
  "language_info": {
   "codemirror_mode": {
    "name": "ipython",
    "version": 3
   },
   "file_extension": ".py",
   "mimetype": "text/x-python",
   "name": "python",
   "nbconvert_exporter": "python",
   "pygments_lexer": "ipython3",
   "version": "3.11.2"
  },
  "orig_nbformat": 4,
  "vscode": {
   "interpreter": {
    "hash": "4535d1dae638db7b445895e6ef230d0348fe49a8a206bff0c80d37f0f25226b9"
   }
  }
 },
 "nbformat": 4,
 "nbformat_minor": 2
}
