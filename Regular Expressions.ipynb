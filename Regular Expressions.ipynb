{
 "cells": [
  {
   "cell_type": "code",
   "execution_count": 1,
   "id": "055d71e8",
   "metadata": {},
   "outputs": [],
   "source": [
    "# There are only 4 steps to be followed in order to use Regular Expressions in python:\n",
    "#     1. Import re module which is the Regular Expressions module in python. All the functions and features required to perform regular expression search in python can be accessed by importing the re module.\n",
    "#     2. Next steps is to create the Regular Expressions Pattern. \n",
    "#Pattern is basically the format or structure of the string that we are trying to search. In Regular Expressions, we have several different character classes, symbols and special characters which will help us to identify every kind of characters or symbols hence making it possible to define a pattern to search of any type of string.\n",
    "#     3. Once the pattern is defined, next step is to search for this pattern in the given text or data.\n",
    "#     4. Finally, we extract all the matched string."
   ]
  },
  {
   "cell_type": "code",
   "execution_count": 2,
   "id": "780f975d",
   "metadata": {},
   "outputs": [],
   "source": [
    "# Regular expressions allows for pattern searching\n"
   ]
  },
  {
   "cell_type": "code",
   "execution_count": 3,
   "id": "ddaa4507",
   "metadata": {},
   "outputs": [],
   "source": [
    "# Every character type has a corresponding pattern code\n",
    "# For example, digits have a placeholder pattern code of \\d\n",
    "# The use of backslash allows the python to understand that this is a special character and not letter d\n",
    "\n",
    "\n",
    "#for example for a format of a phone number : 408-555-1235\n",
    "\n",
    "# 3 digits - 3 digits - 4 digits\n",
    "# r'\\d\\d\\d-\\d\\d\\d-\\d\\d\\d\\d'\n",
    "# r'\\d{3}-\\d{3}-\\d{4}' ---> syntax\n",
    "\n",
    "# "
   ]
  },
  {
   "cell_type": "code",
   "execution_count": 63,
   "id": "9760c967",
   "metadata": {},
   "outputs": [
    {
     "name": "stdout",
     "output_type": "stream",
     "text": [
      "\t chirantan is mad\n"
     ]
    }
   ],
   "source": [
    "# r - raw string, raw string literal \n",
    "# escape sequence in python\n",
    "\n",
    "print('\\t chirantan is mad')"
   ]
  },
  {
   "cell_type": "code",
   "execution_count": 64,
   "id": "6b6ad283",
   "metadata": {},
   "outputs": [
    {
     "name": "stdout",
     "output_type": "stream",
     "text": [
      "\\t chirantan is mad\n"
     ]
    }
   ],
   "source": [
    "print(r'\\t chirantan is mad')"
   ]
  },
  {
   "cell_type": "code",
   "execution_count": null,
   "id": "0cb8a5cf",
   "metadata": {},
   "outputs": [],
   "source": [
    "pd.read_csv(r'c:\\users\\docs\\present.csv')"
   ]
  },
  {
   "cell_type": "code",
   "execution_count": 66,
   "id": "9e98ae97",
   "metadata": {},
   "outputs": [
    {
     "name": "stdout",
     "output_type": "stream",
     "text": [
      "Hello, my name is chirantan and I work at futurense\n"
     ]
    }
   ],
   "source": [
    "name ='chirantan'\n",
    "company = 'futurense'\n",
    "\n",
    "print(f'Hello, my name is {name} and I work at {company}')"
   ]
  },
  {
   "cell_type": "code",
   "execution_count": 61,
   "id": "6af4f1bd",
   "metadata": {},
   "outputs": [],
   "source": [
    "text = \"The phone number of the agent is 408-555-1235. Call soon !\"\n"
   ]
  },
  {
   "cell_type": "code",
   "execution_count": 5,
   "id": "f308bd55",
   "metadata": {},
   "outputs": [
    {
     "data": {
      "text/plain": [
       "True"
      ]
     },
     "execution_count": 5,
     "metadata": {},
     "output_type": "execute_result"
    }
   ],
   "source": [
    "# checking for string inside another string\n",
    "\n",
    "\"phone\" in text"
   ]
  },
  {
   "cell_type": "code",
   "execution_count": 6,
   "id": "5678e0f1",
   "metadata": {},
   "outputs": [],
   "source": [
    "# how to search for a phone number of the above format\n",
    "\n",
    "import re "
   ]
  },
  {
   "cell_type": "code",
   "execution_count": 7,
   "id": "c4036515",
   "metadata": {},
   "outputs": [],
   "source": [
    "pattern = \"phone\""
   ]
  },
  {
   "cell_type": "code",
   "execution_count": 8,
   "id": "48475c96",
   "metadata": {},
   "outputs": [
    {
     "data": {
      "text/plain": [
       "<re.Match object; span=(4, 9), match='phone'>"
      ]
     },
     "execution_count": 8,
     "metadata": {},
     "output_type": "execute_result"
    }
   ],
   "source": [
    "re.search(pattern,text)"
   ]
  },
  {
   "cell_type": "code",
   "execution_count": 9,
   "id": "1ed6996c",
   "metadata": {},
   "outputs": [],
   "source": [
    "#or\n",
    "\n",
    "my_match = re.search(pattern,text)"
   ]
  },
  {
   "cell_type": "code",
   "execution_count": 10,
   "id": "d1d639d7",
   "metadata": {},
   "outputs": [
    {
     "data": {
      "text/plain": [
       "(4, 9)"
      ]
     },
     "execution_count": 10,
     "metadata": {},
     "output_type": "execute_result"
    }
   ],
   "source": [
    "my_match.span()\n",
    "\n",
    "# this means that the string phone \"phone\" , is at 4th index in the text and ends at 9th"
   ]
  },
  {
   "cell_type": "code",
   "execution_count": 11,
   "id": "ff54f3f4",
   "metadata": {},
   "outputs": [
    {
     "data": {
      "text/plain": [
       "4"
      ]
     },
     "execution_count": 11,
     "metadata": {},
     "output_type": "execute_result"
    }
   ],
   "source": [
    "my_match.start()"
   ]
  },
  {
   "cell_type": "code",
   "execution_count": null,
   "id": "f12f67a1",
   "metadata": {},
   "outputs": [],
   "source": []
  },
  {
   "cell_type": "code",
   "execution_count": 12,
   "id": "7243f6ee",
   "metadata": {},
   "outputs": [
    {
     "data": {
      "text/plain": [
       "9"
      ]
     },
     "execution_count": 12,
     "metadata": {},
     "output_type": "execute_result"
    }
   ],
   "source": [
    "my_match.end()"
   ]
  },
  {
   "cell_type": "code",
   "execution_count": 13,
   "id": "0711d352",
   "metadata": {},
   "outputs": [],
   "source": [
    "# pattern occurs more than one time\n",
    "\n",
    "text_redefined = \"My phone is a new phone\""
   ]
  },
  {
   "cell_type": "code",
   "execution_count": 14,
   "id": "4e83426e",
   "metadata": {},
   "outputs": [],
   "source": [
    "match = re.search(pattern,text_redefined)"
   ]
  },
  {
   "cell_type": "code",
   "execution_count": 15,
   "id": "ec2d6e57",
   "metadata": {},
   "outputs": [
    {
     "data": {
      "text/plain": [
       "(3, 8)"
      ]
     },
     "execution_count": 15,
     "metadata": {},
     "output_type": "execute_result"
    }
   ],
   "source": [
    "match.span()\n",
    "\n",
    "# in this case, it is giving me the pattern match for just the first match - \n"
   ]
  },
  {
   "cell_type": "code",
   "execution_count": 16,
   "id": "90f45c54",
   "metadata": {},
   "outputs": [],
   "source": [
    "# instead when we have repeat occurences, we prefer find_all\n",
    "\n",
    "\n",
    "all_matches = re.findall(\"phone\",text_redefined)"
   ]
  },
  {
   "cell_type": "code",
   "execution_count": 17,
   "id": "794f49a0",
   "metadata": {},
   "outputs": [
    {
     "data": {
      "text/plain": [
       "['phone', 'phone']"
      ]
     },
     "execution_count": 17,
     "metadata": {},
     "output_type": "execute_result"
    }
   ],
   "source": [
    "all_matches"
   ]
  },
  {
   "cell_type": "code",
   "execution_count": 18,
   "id": "f6363938",
   "metadata": {},
   "outputs": [
    {
     "data": {
      "text/plain": [
       "2"
      ]
     },
     "execution_count": 18,
     "metadata": {},
     "output_type": "execute_result"
    }
   ],
   "source": [
    "len(all_matches)"
   ]
  },
  {
   "cell_type": "code",
   "execution_count": 19,
   "id": "ab274a1f",
   "metadata": {},
   "outputs": [
    {
     "name": "stdout",
     "output_type": "stream",
     "text": [
      "(3, 8)\n",
      "(18, 23)\n"
     ]
    }
   ],
   "source": [
    "for match in re.finditer(\"phone\",text_redefined):\n",
    "    print(match.span())\n",
    "    \n",
    "    #returning an iteration of all the match objects "
   ]
  },
  {
   "cell_type": "markdown",
   "id": "84658483",
   "metadata": {},
   "source": [
    "### Now searching for generalised patterns and not specific strings"
   ]
  },
  {
   "cell_type": "code",
   "execution_count": 20,
   "id": "5d2f38bb",
   "metadata": {},
   "outputs": [
    {
     "data": {
      "text/plain": [
       "'The phone number of the agent is 408-555-1235. Call soon !'"
      ]
     },
     "execution_count": 20,
     "metadata": {},
     "output_type": "execute_result"
    }
   ],
   "source": [
    "# Quantifiers\n",
    "\n",
    "text"
   ]
  },
  {
   "cell_type": "code",
   "execution_count": 21,
   "id": "1a249274",
   "metadata": {},
   "outputs": [],
   "source": [
    "pattern = r'\\d\\d\\d-\\d\\d\\d-\\d\\d\\d\\d'\n",
    "\n",
    "# pattern for 3 digits-3 digits-4 digits"
   ]
  },
  {
   "cell_type": "code",
   "execution_count": 22,
   "id": "b8085037",
   "metadata": {},
   "outputs": [],
   "source": [
    "phone_number = re.search(pattern,text)"
   ]
  },
  {
   "cell_type": "code",
   "execution_count": 23,
   "id": "92a20f6b",
   "metadata": {},
   "outputs": [
    {
     "data": {
      "text/plain": [
       "<re.Match object; span=(33, 45), match='408-555-1235'>"
      ]
     },
     "execution_count": 23,
     "metadata": {},
     "output_type": "execute_result"
    }
   ],
   "source": [
    "phone_number"
   ]
  },
  {
   "cell_type": "code",
   "execution_count": 24,
   "id": "f1ea642c",
   "metadata": {},
   "outputs": [
    {
     "data": {
      "text/plain": [
       "'408-555-1235'"
      ]
     },
     "execution_count": 24,
     "metadata": {},
     "output_type": "execute_result"
    }
   ],
   "source": [
    "# to find what it matched on \n",
    "\n",
    "phone_number.group()"
   ]
  },
  {
   "cell_type": "code",
   "execution_count": 25,
   "id": "8a0f8c6f",
   "metadata": {},
   "outputs": [],
   "source": [
    "# somtimes writing \\d many times can be tiresome\n",
    "# that is when we introduce quantifiers\n"
   ]
  },
  {
   "cell_type": "code",
   "execution_count": 26,
   "id": "828e90cb",
   "metadata": {},
   "outputs": [],
   "source": [
    "pattern = r'\\d{3}-\\d{3}-\\d{4}'"
   ]
  },
  {
   "cell_type": "code",
   "execution_count": 27,
   "id": "cbdcdb88",
   "metadata": {},
   "outputs": [
    {
     "data": {
      "text/plain": [
       "<re.Match object; span=(33, 45), match='408-555-1235'>"
      ]
     },
     "execution_count": 27,
     "metadata": {},
     "output_type": "execute_result"
    }
   ],
   "source": [
    "re.search(pattern,text)"
   ]
  },
  {
   "cell_type": "code",
   "execution_count": 28,
   "id": "686f923f",
   "metadata": {},
   "outputs": [],
   "source": [
    "# you can also grab indiviual groups out of the number\n",
    "# by putting in parantheses\n",
    "\n",
    "pattern = r'(\\d{3})-(\\d{3})-(\\d{4})'"
   ]
  },
  {
   "cell_type": "code",
   "execution_count": 29,
   "id": "ed88f882",
   "metadata": {},
   "outputs": [],
   "source": [
    "my_match = re.search(pattern,text)"
   ]
  },
  {
   "cell_type": "code",
   "execution_count": 30,
   "id": "a5bb1a58",
   "metadata": {},
   "outputs": [
    {
     "data": {
      "text/plain": [
       "<re.Match object; span=(33, 45), match='408-555-1235'>"
      ]
     },
     "execution_count": 30,
     "metadata": {},
     "output_type": "execute_result"
    }
   ],
   "source": [
    "my_match"
   ]
  },
  {
   "cell_type": "code",
   "execution_count": 31,
   "id": "a20762ec",
   "metadata": {},
   "outputs": [
    {
     "data": {
      "text/plain": [
       "'408-555-1235'"
      ]
     },
     "execution_count": 31,
     "metadata": {},
     "output_type": "execute_result"
    }
   ],
   "source": [
    "my_match.group()"
   ]
  },
  {
   "cell_type": "code",
   "execution_count": 32,
   "id": "4b2b0dcc",
   "metadata": {},
   "outputs": [
    {
     "data": {
      "text/plain": [
       "'408'"
      ]
     },
     "execution_count": 32,
     "metadata": {},
     "output_type": "execute_result"
    }
   ],
   "source": [
    "#grabbing indiviually\n",
    "\n",
    "my_match.group(1)"
   ]
  },
  {
   "cell_type": "code",
   "execution_count": 33,
   "id": "5490596f",
   "metadata": {},
   "outputs": [
    {
     "data": {
      "text/plain": [
       "'555'"
      ]
     },
     "execution_count": 33,
     "metadata": {},
     "output_type": "execute_result"
    }
   ],
   "source": [
    "my_match.group(2)"
   ]
  },
  {
   "cell_type": "code",
   "execution_count": 34,
   "id": "ceb76d15",
   "metadata": {},
   "outputs": [
    {
     "data": {
      "text/plain": [
       "'1235'"
      ]
     },
     "execution_count": 34,
     "metadata": {},
     "output_type": "execute_result"
    }
   ],
   "source": [
    "my_match.group(3)"
   ]
  },
  {
   "cell_type": "code",
   "execution_count": 35,
   "id": "5b6f03df",
   "metadata": {},
   "outputs": [
    {
     "data": {
      "text/plain": [
       "<re.Match object; span=(5, 8), match='man'>"
      ]
     },
     "execution_count": 35,
     "metadata": {},
     "output_type": "execute_result"
    }
   ],
   "source": [
    "# using pipe operator for OR operator\n",
    "\n",
    "re.search(\"man|woman\",\"This man was here in Los Angeles\")"
   ]
  },
  {
   "cell_type": "code",
   "execution_count": 36,
   "id": "223bb1c5",
   "metadata": {},
   "outputs": [
    {
     "data": {
      "text/plain": [
       "<re.Match object; span=(5, 10), match='woman'>"
      ]
     },
     "execution_count": 36,
     "metadata": {},
     "output_type": "execute_result"
    }
   ],
   "source": [
    "re.search(\"man|woman\",\"This woman was here in Los Angeles\")"
   ]
  },
  {
   "cell_type": "code",
   "execution_count": 37,
   "id": "54e04633",
   "metadata": {},
   "outputs": [
    {
     "data": {
      "text/plain": [
       "['cat', 'hat', 'hat', 'sat']"
      ]
     },
     "execution_count": 37,
     "metadata": {},
     "output_type": "execute_result"
    }
   ],
   "source": [
    "# using WILDCARD operator\n",
    "\n",
    "re.findall(r'.at',\"The cat in that hat sat\")"
   ]
  },
  {
   "cell_type": "code",
   "execution_count": 38,
   "id": "0416ea10",
   "metadata": {},
   "outputs": [
    {
     "data": {
      "text/plain": [
       "['cat', 'hat', 'hat', 'sat', 'lat']"
      ]
     },
     "execution_count": 38,
     "metadata": {},
     "output_type": "execute_result"
    }
   ],
   "source": [
    "# .at - . at the start means it will only match on only one character before at\n",
    "\n",
    "re.findall(r'.at',\"The cat in that hat sat and splat\")"
   ]
  },
  {
   "cell_type": "code",
   "execution_count": 39,
   "id": "e3bae70d",
   "metadata": {},
   "outputs": [
    {
     "data": {
      "text/plain": [
       "[' cat', 'that', ' hat', ' sat', 'plat']"
      ]
     },
     "execution_count": 39,
     "metadata": {},
     "output_type": "execute_result"
    }
   ],
   "source": [
    "re.findall(r'..at',\"The cat in that hat sat and splat\")"
   ]
  },
  {
   "cell_type": "code",
   "execution_count": 40,
   "id": "75057a17",
   "metadata": {},
   "outputs": [],
   "source": [
    "# when i put an extra . in the wildcard operator, it allows to take 2 more additional chars before at\n",
    "# if there's none, it will take the space"
   ]
  },
  {
   "cell_type": "code",
   "execution_count": 41,
   "id": "67897d89",
   "metadata": {},
   "outputs": [],
   "source": [
    "# start and end with a particular character\n",
    "# use ^ (shift + 6)\n",
    "# ^ signals that it starts with and $ signals that it ends with"
   ]
  },
  {
   "cell_type": "code",
   "execution_count": 42,
   "id": "86e7cc6c",
   "metadata": {},
   "outputs": [
    {
     "data": {
      "text/plain": [
       "['2']"
      ]
     },
     "execution_count": 42,
     "metadata": {},
     "output_type": "execute_result"
    }
   ],
   "source": [
    "re.findall(r'\\d$','This ends with a number 2')"
   ]
  },
  {
   "cell_type": "code",
   "execution_count": 43,
   "id": "5b95ba21",
   "metadata": {},
   "outputs": [],
   "source": [
    "phrase = \"There are 3 numbers 34 inside this 5 sentence\""
   ]
  },
  {
   "cell_type": "code",
   "execution_count": 44,
   "id": "792c4207",
   "metadata": {},
   "outputs": [],
   "source": [
    "# now you want to get rid of all the numbers inside this sentence\n"
   ]
  },
  {
   "cell_type": "code",
   "execution_count": 45,
   "id": "0be9919a",
   "metadata": {},
   "outputs": [
    {
     "data": {
      "text/plain": [
       "['T',\n",
       " 'h',\n",
       " 'e',\n",
       " 'r',\n",
       " 'e',\n",
       " ' ',\n",
       " 'a',\n",
       " 'r',\n",
       " 'e',\n",
       " ' ',\n",
       " ' ',\n",
       " 'n',\n",
       " 'u',\n",
       " 'm',\n",
       " 'b',\n",
       " 'e',\n",
       " 'r',\n",
       " 's',\n",
       " ' ',\n",
       " ' ',\n",
       " 'i',\n",
       " 'n',\n",
       " 's',\n",
       " 'i',\n",
       " 'd',\n",
       " 'e',\n",
       " ' ',\n",
       " 't',\n",
       " 'h',\n",
       " 'i',\n",
       " 's',\n",
       " ' ',\n",
       " ' ',\n",
       " 's',\n",
       " 'e',\n",
       " 'n',\n",
       " 't',\n",
       " 'e',\n",
       " 'n',\n",
       " 'c',\n",
       " 'e']"
      ]
     },
     "execution_count": 45,
     "metadata": {},
     "output_type": "execute_result"
    }
   ],
   "source": [
    "re.findall(r'[^\\d]',phrase) # [^]-> exclusion"
   ]
  },
  {
   "cell_type": "code",
   "execution_count": 46,
   "id": "11c5f4e6",
   "metadata": {},
   "outputs": [],
   "source": [
    "# [^] means exclusion , ^ carrot inside the [] means exclusion\n",
    "# we are saying exclude all the digits \n",
    "# in output, in place of the numbers, we get spaces\n",
    "# \\d are digits"
   ]
  },
  {
   "cell_type": "code",
   "execution_count": 47,
   "id": "941a911c",
   "metadata": {},
   "outputs": [
    {
     "data": {
      "text/plain": [
       "['3', '3', '4', '5']"
      ]
     },
     "execution_count": 47,
     "metadata": {},
     "output_type": "execute_result"
    }
   ],
   "source": [
    "re.findall(r'[\\d]',phrase) # []\n",
    "\n",
    "# this will only extract numbers from the phase"
   ]
  },
  {
   "cell_type": "code",
   "execution_count": 48,
   "id": "0ccc72d9",
   "metadata": {},
   "outputs": [
    {
     "data": {
      "text/plain": [
       "['3', '3', '4', '5']"
      ]
     },
     "execution_count": 48,
     "metadata": {},
     "output_type": "execute_result"
    }
   ],
   "source": [
    "# or this too\n",
    "re.findall(r'\\d',phrase)"
   ]
  },
  {
   "cell_type": "code",
   "execution_count": 49,
   "id": "748dd3e5",
   "metadata": {},
   "outputs": [
    {
     "data": {
      "text/plain": [
       "['There are ', ' numbers ', ' inside this ', ' sentence']"
      ]
     },
     "execution_count": 49,
     "metadata": {},
     "output_type": "execute_result"
    }
   ],
   "source": [
    "# if we want anything that is not a digit\n",
    "re.findall(r'[^\\d]+',phrase)"
   ]
  },
  {
   "cell_type": "code",
   "execution_count": 50,
   "id": "49bb645e",
   "metadata": {},
   "outputs": [],
   "source": [
    "# we do this in order to remove punctuation in Natural Language Processing"
   ]
  },
  {
   "cell_type": "code",
   "execution_count": 51,
   "id": "983e4e42",
   "metadata": {},
   "outputs": [],
   "source": [
    "test_phrase = \"This is a string! But it has a punctuation. How to remove it?\""
   ]
  },
  {
   "cell_type": "code",
   "execution_count": 52,
   "id": "61f52bd5",
   "metadata": {},
   "outputs": [
    {
     "data": {
      "text/plain": [
       "['This',\n",
       " 'is',\n",
       " 'a',\n",
       " 'string',\n",
       " 'But',\n",
       " 'it',\n",
       " 'has',\n",
       " 'a',\n",
       " 'punctuation',\n",
       " 'How',\n",
       " 'to',\n",
       " 'remove',\n",
       " 'it']"
      ]
     },
     "execution_count": 52,
     "metadata": {},
     "output_type": "execute_result"
    }
   ],
   "source": [
    "re.findall(r'[^!.? ]+',test_phrase)"
   ]
  },
  {
   "cell_type": "code",
   "execution_count": 53,
   "id": "2f477584",
   "metadata": {},
   "outputs": [],
   "source": [
    "# we are getting a list which has no punctuation"
   ]
  },
  {
   "cell_type": "code",
   "execution_count": 54,
   "id": "a74a64d7",
   "metadata": {},
   "outputs": [
    {
     "data": {
      "text/plain": [
       "['This',\n",
       " 'is',\n",
       " 'a',\n",
       " 'string',\n",
       " 'But',\n",
       " 'it',\n",
       " 'has',\n",
       " 'a',\n",
       " 'punctuation',\n",
       " 'How',\n",
       " 'to',\n",
       " 'remove',\n",
       " 'it']"
      ]
     },
     "execution_count": 54,
     "metadata": {},
     "output_type": "execute_result"
    }
   ],
   "source": [
    "punc_list = re.findall(r'[^!.? ]+',test_phrase) # we are excluding !.? space as well\n",
    "punc_list"
   ]
  },
  {
   "cell_type": "code",
   "execution_count": 55,
   "id": "013fe87e",
   "metadata": {},
   "outputs": [
    {
     "data": {
      "text/plain": [
       "'This is a string But it has a punctuation How to remove it'"
      ]
     },
     "execution_count": 55,
     "metadata": {},
     "output_type": "execute_result"
    }
   ],
   "source": [
    "# we can join this list using .join method\n",
    "\n",
    "' '.join(punc_list)"
   ]
  },
  {
   "cell_type": "code",
   "execution_count": 56,
   "id": "7f42274e",
   "metadata": {},
   "outputs": [],
   "source": [
    "# find the words that are hyphenated\n",
    "\n",
    "text = \"Find hyphenated-words for me. Hey, how long-ish does this route take to reach the destination?\""
   ]
  },
  {
   "cell_type": "code",
   "execution_count": 57,
   "id": "a1bd6999",
   "metadata": {},
   "outputs": [
    {
     "data": {
      "text/plain": [
       "['hyphenated-words', 'long-ish']"
      ]
     },
     "execution_count": 57,
     "metadata": {},
     "output_type": "execute_result"
    }
   ],
   "source": [
    "# alpha numerics are indicated by \\w\n",
    "# + indicates any number\n",
    "\n",
    "re.findall(r'[\\w]+-[\\w]+',text)"
   ]
  },
  {
   "cell_type": "code",
   "execution_count": null,
   "id": "3d63f5b2",
   "metadata": {},
   "outputs": [],
   "source": []
  },
  {
   "cell_type": "code",
   "execution_count": null,
   "id": "06efca07",
   "metadata": {},
   "outputs": [],
   "source": []
  },
  {
   "cell_type": "code",
   "execution_count": null,
   "id": "0cdfbf2a",
   "metadata": {},
   "outputs": [],
   "source": []
  },
  {
   "cell_type": "code",
   "execution_count": null,
   "id": "2053b3e4",
   "metadata": {},
   "outputs": [],
   "source": []
  },
  {
   "cell_type": "code",
   "execution_count": null,
   "id": "42b64b59",
   "metadata": {},
   "outputs": [],
   "source": []
  },
  {
   "cell_type": "code",
   "execution_count": null,
   "id": "b04bfbb0",
   "metadata": {},
   "outputs": [],
   "source": []
  },
  {
   "cell_type": "code",
   "execution_count": null,
   "id": "e5a76beb",
   "metadata": {},
   "outputs": [],
   "source": []
  },
  {
   "cell_type": "code",
   "execution_count": null,
   "id": "bafa7417",
   "metadata": {},
   "outputs": [],
   "source": []
  },
  {
   "cell_type": "code",
   "execution_count": null,
   "id": "d99234d9",
   "metadata": {},
   "outputs": [],
   "source": []
  },
  {
   "cell_type": "code",
   "execution_count": null,
   "id": "152f90da",
   "metadata": {},
   "outputs": [],
   "source": []
  },
  {
   "cell_type": "code",
   "execution_count": null,
   "id": "81ea524b",
   "metadata": {},
   "outputs": [],
   "source": []
  },
  {
   "cell_type": "code",
   "execution_count": null,
   "id": "e9f44109",
   "metadata": {},
   "outputs": [],
   "source": []
  },
  {
   "cell_type": "code",
   "execution_count": null,
   "id": "e8f47805",
   "metadata": {},
   "outputs": [],
   "source": []
  },
  {
   "cell_type": "code",
   "execution_count": null,
   "id": "4d94ed54",
   "metadata": {},
   "outputs": [],
   "source": []
  },
  {
   "cell_type": "code",
   "execution_count": null,
   "id": "fd650eb2",
   "metadata": {},
   "outputs": [],
   "source": []
  },
  {
   "cell_type": "code",
   "execution_count": null,
   "id": "1e1fbe9c",
   "metadata": {},
   "outputs": [],
   "source": []
  },
  {
   "cell_type": "code",
   "execution_count": null,
   "id": "9b1b2df7",
   "metadata": {},
   "outputs": [],
   "source": []
  }
 ],
 "metadata": {
  "kernelspec": {
   "display_name": "Python 3 (ipykernel)",
   "language": "python",
   "name": "python3"
  },
  "language_info": {
   "codemirror_mode": {
    "name": "ipython",
    "version": 3
   },
   "file_extension": ".py",
   "mimetype": "text/x-python",
   "name": "python",
   "nbconvert_exporter": "python",
   "pygments_lexer": "ipython3",
   "version": "3.9.13"
  }
 },
 "nbformat": 4,
 "nbformat_minor": 5
}
