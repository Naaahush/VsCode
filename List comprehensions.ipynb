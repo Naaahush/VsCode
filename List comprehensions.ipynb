{
 "cells": [
  {
   "cell_type": "raw",
   "id": "86635a11",
   "metadata": {},
   "source": [
    "Squaring numbers in a list:"
   ]
  },
  {
   "cell_type": "code",
   "execution_count": 1,
   "id": "e8bf8779",
   "metadata": {},
   "outputs": [
    {
     "name": "stdout",
     "output_type": "stream",
     "text": [
      "[1, 4, 9, 16, 25]\n"
     ]
    }
   ],
   "source": [
    "numbers = [1, 2, 3, 4, 5]\n",
    "squares = [num**2 for num in numbers]\n",
    "print(squares)  # Output: [1, 4, 9, 16, 25]\n"
   ]
  },
  {
   "cell_type": "raw",
   "id": "a4103ba1",
   "metadata": {},
   "source": [
    "Filtering even numbers in a list:"
   ]
  },
  {
   "cell_type": "code",
   "execution_count": 2,
   "id": "4f8d36d7",
   "metadata": {},
   "outputs": [
    {
     "name": "stdout",
     "output_type": "stream",
     "text": [
      "[2, 4]\n"
     ]
    }
   ],
   "source": [
    "numbers = [1, 2, 3, 4, 5]\n",
    "evens = [num for num in numbers if num % 2 == 0]\n",
    "print(evens)  # Output: [2, 4]\n"
   ]
  },
  {
   "cell_type": "raw",
   "id": "f1f32bdd",
   "metadata": {},
   "source": [
    "Converting a list of strings to uppercase:"
   ]
  },
  {
   "cell_type": "code",
   "execution_count": 3,
   "id": "32c8ed07",
   "metadata": {},
   "outputs": [
    {
     "name": "stdout",
     "output_type": "stream",
     "text": [
      "['HELLO', 'WORLD', 'HOW', 'ARE', 'YOU']\n"
     ]
    }
   ],
   "source": [
    "strings = ['hello', 'world', 'how', 'are', 'you']\n",
    "upper_strings = [s.upper() for s in strings]\n",
    "print(upper_strings)  # Output: ['HELLO', 'WORLD', 'HOW', 'ARE', 'YOU']\n"
   ]
  },
  {
   "cell_type": "raw",
   "id": "1b0c748b",
   "metadata": {},
   "source": [
    "Creating a list of tuples:"
   ]
  },
  {
   "cell_type": "code",
   "execution_count": 4,
   "id": "031c1b9b",
   "metadata": {},
   "outputs": [
    {
     "name": "stdout",
     "output_type": "stream",
     "text": [
      "[('Alice', 5), ('Bob', 3), ('Charlie', 7), ('Dave', 4)]\n"
     ]
    }
   ],
   "source": [
    "names = ['Alice', 'Bob', 'Charlie', 'Dave']\n",
    "name_lengths = [(name, len(name)) for name in names]\n",
    "print(name_lengths)  # Output: [('Alice', 5), ('Bob', 3), ('Charlie', 7), ('Dave', 4)]\n"
   ]
  },
  {
   "cell_type": "raw",
   "id": "c884fc6b",
   "metadata": {},
   "source": [
    "Nested list comprehensions:"
   ]
  },
  {
   "cell_type": "code",
   "execution_count": 7,
   "id": "4e7da913",
   "metadata": {},
   "outputs": [
    {
     "name": "stdout",
     "output_type": "stream",
     "text": [
      "[1, 2, 3, 4, 5, 6, 7, 8, 9]\n"
     ]
    }
   ],
   "source": [
    "matrix = [[1, 2, 3], [4, 5, 6], [7, 8, 9]]\n",
    "flattened = [num for row in matrix for num in row]\n",
    "print(flattened)  # Output: [1, 2, 3, 4, 5, 6, 7, 8, 9]\n"
   ]
  },
  {
   "cell_type": "raw",
   "id": "c20b765e",
   "metadata": {},
   "source": [
    "Creating a list of even numbers using the range function:"
   ]
  },
  {
   "cell_type": "code",
   "execution_count": 6,
   "id": "cd0cf2e9",
   "metadata": {
    "scrolled": true
   },
   "outputs": [
    {
     "name": "stdout",
     "output_type": "stream",
     "text": [
      "[2, 4, 6, 8, 10]\n"
     ]
    }
   ],
   "source": [
    "evens = [num for num in range(1, 11) if num % 2 == 0]\n",
    "print(evens)  # Output: [2, 4, 6, 8, 10]\n"
   ]
  },
  {
   "cell_type": "raw",
   "id": "c9a818c2",
   "metadata": {},
   "source": [
    "Flattening a list of lists:"
   ]
  },
  {
   "cell_type": "code",
   "execution_count": 8,
   "id": "034b089f",
   "metadata": {},
   "outputs": [
    {
     "name": "stdout",
     "output_type": "stream",
     "text": [
      "[1, 2, 3, 4, 5, 6, 7, 8, 9]\n"
     ]
    }
   ],
   "source": [
    "nested_list = [[1, 2, 3], [4, 5, 6], [7, 8, 9]]\n",
    "flat_list = [num for sublist in nested_list for num in sublist]\n",
    "print(flat_list)  # Output: [1, 2, 3, 4, 5, 6, 7, 8, 9]\n"
   ]
  },
  {
   "cell_type": "code",
   "execution_count": 2,
   "id": "179a08ec",
   "metadata": {},
   "outputs": [
    {
     "name": "stdout",
     "output_type": "stream",
     "text": [
      "45\n"
     ]
    }
   ],
   "source": [
    "nested_list = [[1,2,3],[4,5,6],[7,8,9]]\n",
    "\n",
    "total_list = sum(nums for sublist in nested_list for nums in sublist) #sum()\n",
    "\n",
    "print(total_list)"
   ]
  },
  {
   "cell_type": "code",
   "execution_count": 9,
   "id": "e5f8659e",
   "metadata": {},
   "outputs": [
    {
     "name": "stdout",
     "output_type": "stream",
     "text": [
      "1\n",
      "2\n",
      "3\n",
      "4\n",
      "5\n",
      "6\n",
      "7\n",
      "8\n",
      "9\n"
     ]
    }
   ],
   "source": [
    "nested_list = [[1, 2, 3], [4, 5, 6], [7, 8, 9]]\n",
    "\n",
    "for sublist in nested_list:\n",
    "    for num in sublist:\n",
    "        print(num)"
   ]
  },
  {
   "cell_type": "code",
   "execution_count": null,
   "id": "f3924454",
   "metadata": {},
   "outputs": [],
   "source": []
  },
  {
   "cell_type": "code",
   "execution_count": null,
   "id": "4ff57a9b",
   "metadata": {},
   "outputs": [],
   "source": []
  },
  {
   "cell_type": "code",
   "execution_count": null,
   "id": "da2a600e",
   "metadata": {},
   "outputs": [],
   "source": []
  },
  {
   "cell_type": "code",
   "execution_count": null,
   "id": "c3e6bee8",
   "metadata": {},
   "outputs": [],
   "source": []
  },
  {
   "cell_type": "code",
   "execution_count": null,
   "id": "73ed591a",
   "metadata": {},
   "outputs": [],
   "source": []
  },
  {
   "cell_type": "code",
   "execution_count": null,
   "id": "e5b24438",
   "metadata": {},
   "outputs": [],
   "source": []
  },
  {
   "cell_type": "code",
   "execution_count": null,
   "id": "b69c7242",
   "metadata": {},
   "outputs": [],
   "source": []
  },
  {
   "cell_type": "code",
   "execution_count": null,
   "id": "bbcafa17",
   "metadata": {},
   "outputs": [],
   "source": []
  },
  {
   "cell_type": "code",
   "execution_count": null,
   "id": "b9687e9b",
   "metadata": {},
   "outputs": [],
   "source": []
  },
  {
   "cell_type": "code",
   "execution_count": null,
   "id": "c6518cf8",
   "metadata": {},
   "outputs": [],
   "source": []
  },
  {
   "cell_type": "code",
   "execution_count": null,
   "id": "650c1f6d",
   "metadata": {},
   "outputs": [],
   "source": []
  },
  {
   "cell_type": "code",
   "execution_count": null,
   "id": "b4dfaa97",
   "metadata": {},
   "outputs": [],
   "source": []
  }
 ],
 "metadata": {
  "kernelspec": {
   "display_name": "Python 3 (ipykernel)",
   "language": "python",
   "name": "python3"
  },
  "language_info": {
   "codemirror_mode": {
    "name": "ipython",
    "version": 3
   },
   "file_extension": ".py",
   "mimetype": "text/x-python",
   "name": "python",
   "nbconvert_exporter": "python",
   "pygments_lexer": "ipython3",
   "version": "3.9.13"
  }
 },
 "nbformat": 4,
 "nbformat_minor": 5
}
