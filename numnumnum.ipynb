{
 "cells": [
  {
   "cell_type": "code",
   "execution_count": 1,
   "metadata": {},
   "outputs": [],
   "source": [
    "import pandas as pd\n",
    "import numpy as np\n",
    "import seaborn as sns\n",
    "import matplotlib.pyplot as plt"
   ]
  },
  {
   "cell_type": "code",
   "execution_count": 2,
   "metadata": {},
   "outputs": [
    {
     "name": "stdout",
     "output_type": "stream",
     "text": [
      "[1 2 3 4 5]\n"
     ]
    }
   ],
   "source": [
    "#numpy.array() : This function creates a new numpy array from a python list or tuple.\n",
    "\n",
    "my_list = [1,2,3,4,5]\n",
    "my_array = np.array(my_list)\n",
    "\n",
    "print(my_array)"
   ]
  },
  {
   "cell_type": "code",
   "execution_count": 6,
   "metadata": {},
   "outputs": [
    {
     "name": "stdout",
     "output_type": "stream",
     "text": [
      "[[0 0 0 0]\n",
      " [0 0 0 0]\n",
      " [0 0 0 0]]\n"
     ]
    }
   ],
   "source": [
    "#numpy.zeros() : This function creates a new numpy arra of all zeroes with specified shape\n",
    "\n",
    "my_zeroes = np.zeros((3,4))\n",
    "\n",
    "my_zeroes = np.zeros((3,4),dtype='int16')\n",
    "print(my_zeroes)"
   ]
  },
  {
   "cell_type": "code",
   "execution_count": 7,
   "metadata": {},
   "outputs": [
    {
     "name": "stdout",
     "output_type": "stream",
     "text": [
      "[[1. 1.]\n",
      " [1. 1.]]\n"
     ]
    }
   ],
   "source": [
    "#numpy.ones() : This function creates a new numpy array of all the ones specified shape\n",
    "\n",
    "my_ones=np.ones((2,2))\n",
    "\n",
    "print(my_ones)"
   ]
  },
  {
   "cell_type": "code",
   "execution_count": 9,
   "metadata": {},
   "outputs": [
    {
     "name": "stdout",
     "output_type": "stream",
     "text": [
      "[[7 7 7]\n",
      " [7 7 7]\n",
      " [7 7 7]]\n"
     ]
    }
   ],
   "source": [
    "#numpy.full(): This function creates a new numpy array filled with specific value.\n",
    "\n",
    "my_full = np.full((3,3),7)\n",
    "print(my_full)"
   ]
  },
  {
   "cell_type": "code",
   "execution_count": 10,
   "metadata": {},
   "outputs": [
    {
     "name": "stdout",
     "output_type": "stream",
     "text": [
      "[[0.5 0.5 0.5 0.5 0.5]\n",
      " [0.5 0.5 0.5 0.5 0.5]\n",
      " [0.5 0.5 0.5 0.5 0.5]\n",
      " [0.5 0.5 0.5 0.5 0.5]]\n"
     ]
    }
   ],
   "source": [
    "my_full = np.full((4,5),0.5)\n",
    "print(my_full)"
   ]
  },
  {
   "cell_type": "code",
   "execution_count": 11,
   "metadata": {},
   "outputs": [
    {
     "name": "stdout",
     "output_type": "stream",
     "text": [
      "[0 2 4 6 8]\n"
     ]
    }
   ],
   "source": [
    "#numpy.arrange(): Thos function creates a new numpy array with a specific range of values\n",
    "\n",
    "my_range = np.arange(0,10,2)\n",
    "print(my_range)"
   ]
  },
  {
   "cell_type": "code",
   "execution_count": 13,
   "metadata": {},
   "outputs": [
    {
     "name": "stdout",
     "output_type": "stream",
     "text": [
      "[0.   0.25 0.5  0.75 1.  ]\n"
     ]
    }
   ],
   "source": [
    "#numpy.linspace(): This function creates a new numpy array with a specified number of evenly spaced values between a start and end point.\n",
    "\n",
    "my_linespace = np.linspace(0,1,5)\n",
    "\n",
    "print(my_linespace)"
   ]
  },
  {
   "cell_type": "code",
   "execution_count": 15,
   "metadata": {},
   "outputs": [
    {
     "name": "stdout",
     "output_type": "stream",
     "text": [
      "[[0 1 2]\n",
      " [3 4 5]]\n"
     ]
    }
   ],
   "source": [
    "#np.reshape(): This function returns an array with the same data but with a new shape.\n",
    "\n",
    "my_reshape = np.arange(6).reshape(2,3)\n",
    "print(my_reshape)"
   ]
  },
  {
   "cell_type": "code",
   "execution_count": 18,
   "metadata": {},
   "outputs": [
    {
     "name": "stdout",
     "output_type": "stream",
     "text": [
      "[[1 2]\n",
      " [3 4]]\n",
      "[[1 3]\n",
      " [2 4]]\n"
     ]
    }
   ],
   "source": [
    "#np.transpose(): This function returns the transpose of an array.\n",
    "\n",
    "arr = np.array([[1,2],[3,4]])\n",
    "print(arr)\n",
    "transpose_arr = np.transpose(arr)\n",
    "print(transpose_arr)"
   ]
  },
  {
   "cell_type": "code",
   "execution_count": 19,
   "metadata": {},
   "outputs": [
    {
     "name": "stdout",
     "output_type": "stream",
     "text": [
      "[[1 2]\n",
      " [3 4]\n",
      " [5 6]]\n"
     ]
    }
   ],
   "source": [
    "#np.concatenate(): This function joins two or more arrays along specified axis\n",
    "\n",
    "\n",
    "arr1 = np.array([[1,2],[3,4]])\n",
    "arr2 = np.array([[5,6]])\n",
    "\n",
    "concat_arr = np.concatenate((arr1,arr2),axis=0)\n",
    "\n",
    "print(concat_arr)"
   ]
  },
  {
   "cell_type": "code",
   "execution_count": 20,
   "metadata": {},
   "outputs": [
    {
     "name": "stdout",
     "output_type": "stream",
     "text": [
      "[[1 2]\n",
      " [3 4]]\n",
      "10\n"
     ]
    }
   ],
   "source": [
    "#np.sum(): returns sum of all the elements in array.\n",
    "\n",
    "\n",
    "arr1 = np.array([[1,2],[3,4]])\n",
    "print(arr)\n",
    "sum = np.sum(arr)\n",
    "print(sum)"
   ]
  },
  {
   "cell_type": "code",
   "execution_count": 22,
   "metadata": {},
   "outputs": [
    {
     "name": "stdout",
     "output_type": "stream",
     "text": [
      "4\n"
     ]
    }
   ],
   "source": [
    "#np.max(): it will return the maximun number from the array\n",
    "\n",
    "arr1 = np.array([[1,2],[3,4]])\n",
    "max_of_arr = np.max(arr1)\n",
    "print(max_of_arr)"
   ]
  },
  {
   "cell_type": "code",
   "execution_count": 23,
   "metadata": {},
   "outputs": [
    {
     "name": "stdout",
     "output_type": "stream",
     "text": [
      "1\n"
     ]
    }
   ],
   "source": [
    "#np.min(): This function returns the minimum value in the array\n",
    "\n",
    "arr1 = np.array([[1,2],[3,4]])\n",
    "minval =np.min(arr1)\n",
    "print(minval)"
   ]
  },
  {
   "cell_type": "code",
   "execution_count": 25,
   "metadata": {},
   "outputs": [
    {
     "name": "stdout",
     "output_type": "stream",
     "text": [
      "[[19 22]\n",
      " [43 50]]\n"
     ]
    }
   ],
   "source": [
    "#np.dot(): Thisn function returns the dot product of arrays\n",
    "\n",
    "\n",
    "arr1 = np.array([[1,2],[3,4]])\n",
    "arr2 = np.array([[5,6],[7,8]])\n",
    "\n",
    "dot_prod = np.dot(arr1,arr2)\n",
    "print(dot_prod)"
   ]
  },
  {
   "cell_type": "code",
   "execution_count": 27,
   "metadata": {},
   "outputs": [
    {
     "name": "stdout",
     "output_type": "stream",
     "text": [
      "[[0.64082486 0.34195928 0.26129999]\n",
      " [0.73771403 0.33993317 0.2824768 ]]\n"
     ]
    }
   ],
   "source": [
    "#np.random.rand(): This fucntion returns an array of random values between 0 to 1 of the specified shape\n",
    "\n",
    "rand_arr = np.random.rand(2,3)\n",
    "print(rand_arr)"
   ]
  },
  {
   "cell_type": "code",
   "execution_count": 28,
   "metadata": {},
   "outputs": [
    {
     "name": "stdout",
     "output_type": "stream",
     "text": [
      "[[7 5 9 3]\n",
      " [3 1 4 2]\n",
      " [3 1 9 6]]\n"
     ]
    }
   ],
   "source": [
    "#np.random.randint(): This function returns an array of random integers within a specified range and shape.\n",
    "\n",
    "randint_arr = np.random.randint(1,10,size=(3,4))\n",
    "print(randint_arr)"
   ]
  },
  {
   "cell_type": "code",
   "execution_count": 29,
   "metadata": {},
   "outputs": [
    {
     "name": "stdout",
     "output_type": "stream",
     "text": [
      "(array([1, 1], dtype=int64), array([0, 1], dtype=int64))\n"
     ]
    }
   ],
   "source": [
    "#np.where(): This function returns an array of indices where the given condition is true.\n",
    "\n",
    "arr1 = np.array([[1,2],[3,4]])\n",
    "indices = np.where(arr>2)\n",
    "print(indices)"
   ]
  },
  {
   "cell_type": "code",
   "execution_count": 30,
   "metadata": {},
   "outputs": [
    {
     "name": "stdout",
     "output_type": "stream",
     "text": [
      "[1 2 3 4 5 6 7 8]\n"
     ]
    }
   ],
   "source": [
    "#np.unique():\n",
    "arr = np.array([1,2,2,3,4,4,5,6,6,7,8,8,3,2,4,5,5,7,3,8,8])\n",
    "unique_arr = np.unique(arr)\n",
    "print(unique_arr)"
   ]
  },
  {
   "cell_type": "code",
   "execution_count": 32,
   "metadata": {},
   "outputs": [
    {
     "name": "stdout",
     "output_type": "stream",
     "text": [
      "[[1 2 3]\n",
      " [4 5 6]\n",
      " [7 8 9]]\n",
      "[1 5 9]\n"
     ]
    }
   ],
   "source": [
    "#np.diag(): this function returns a diagonals from an array\n",
    "\n",
    "\n",
    "arr1 = np.array([[1,2,3],[4,5,6],[7,8,9]])\n",
    "print(arr1)\n",
    "diagonal = np.diag(arr1)\n",
    "print(diagonal)"
   ]
  },
  {
   "cell_type": "code",
   "execution_count": 33,
   "metadata": {},
   "outputs": [
    {
     "name": "stdout",
     "output_type": "stream",
     "text": [
      "[1 2 0 3 4]\n"
     ]
    }
   ],
   "source": [
    "#np.argsort(): This function returns the indices that would sort an array\n",
    "\n",
    "arr = np.array([3,1,2,4,5])\n",
    "sorted_indices = np.argsort(arr)\n",
    "print(sorted_indices)"
   ]
  },
  {
   "cell_type": "code",
   "execution_count": 34,
   "metadata": {},
   "outputs": [
    {
     "name": "stdout",
     "output_type": "stream",
     "text": [
      "1.4142135623730951\n"
     ]
    }
   ],
   "source": [
    "#np.std(): this function returns the standard deviation of an array\n",
    "\n",
    "arr = np.array([1,2,3,4,5])\n",
    "std_dev= np.std(arr)\n",
    "print(std_dev)"
   ]
  },
  {
   "cell_type": "code",
   "execution_count": 35,
   "metadata": {},
   "outputs": [
    {
     "name": "stdout",
     "output_type": "stream",
     "text": [
      "[2 2 3 4 4]\n"
     ]
    }
   ],
   "source": [
    "#np.clip(): This function limits the value of an array within  a specified range\n",
    "\n",
    "arr =  np.array([1,2,3,4,5])\n",
    "clp = np.clip(arr,2,4)\n",
    "print(clp)"
   ]
  },
  {
   "cell_type": "code",
   "execution_count": 36,
   "metadata": {},
   "outputs": [
    {
     "name": "stdout",
     "output_type": "stream",
     "text": [
      "[1 2 3 4 5 6]\n",
      "[[1 2 3]\n",
      " [4 5 6]]\n"
     ]
    }
   ],
   "source": [
    "#np.hstack(): \n",
    "#np.vstack():\n",
    "#np.dstack():\n",
    "\n",
    "arr1 = np.array([1, 2, 3])\n",
    "arr2 = np.array([4, 5, 6])\n",
    "hstack_arr = np.hstack((arr1, arr2))\n",
    "print(hstack_arr)\n",
    "\n",
    "arr1 = np.array([1, 2, 3])\n",
    "arr2 = np.array([4, 5, 6])\n",
    "vstack_arr = np.vstack((arr1, arr2))\n",
    "print(vstack_arr)\n"
   ]
  },
  {
   "cell_type": "code",
   "execution_count": 38,
   "metadata": {},
   "outputs": [
    {
     "name": "stdout",
     "output_type": "stream",
     "text": [
      "-2.0000000000000004\n"
     ]
    }
   ],
   "source": [
    "#np.linalg.det(): This function returns a determinant of a square matrix\n",
    "\n",
    "arr = np.array([[1,2],[3,4]])\n",
    "det = np.linalg.det(arr)\n",
    "print(det)"
   ]
  },
  {
   "cell_type": "code",
   "execution_count": 39,
   "metadata": {},
   "outputs": [
    {
     "name": "stdout",
     "output_type": "stream",
     "text": [
      "   2\n",
      "1 x + 2 x + 3\n"
     ]
    }
   ],
   "source": [
    "#np.ploy1d(): return a polynomial fn \n",
    "\n",
    "poly = np.poly1d([1,2,3])\n",
    "print(poly)"
   ]
  },
  {
   "cell_type": "code",
   "execution_count": 40,
   "metadata": {},
   "outputs": [],
   "source": [
    "#np.meshgrid(): This function returns coordinate matrices from coordinate vectors\n",
    "\n"
   ]
  },
  {
   "cell_type": "code",
   "execution_count": 41,
   "metadata": {},
   "outputs": [],
   "source": [
    "#np.exp():\n"
   ]
  },
  {
   "cell_type": "code",
   "execution_count": 43,
   "metadata": {},
   "outputs": [],
   "source": [
    "#np.log():"
   ]
  },
  {
   "cell_type": "code",
   "execution_count": null,
   "metadata": {},
   "outputs": [],
   "source": [
    "#np.histogram2d():\n",
    "#np.polyfit():\n",
    "#np.gredient():\n",
    "#np.matmul():"
   ]
  }
 ],
 "metadata": {
  "kernelspec": {
   "display_name": ".venv",
   "language": "python",
   "name": "python3"
  },
  "language_info": {
   "codemirror_mode": {
    "name": "ipython",
    "version": 3
   },
   "file_extension": ".py",
   "mimetype": "text/x-python",
   "name": "python",
   "nbconvert_exporter": "python",
   "pygments_lexer": "ipython3",
   "version": "3.11.2"
  },
  "orig_nbformat": 4,
  "vscode": {
   "interpreter": {
    "hash": "4535d1dae638db7b445895e6ef230d0348fe49a8a206bff0c80d37f0f25226b9"
   }
  }
 },
 "nbformat": 4,
 "nbformat_minor": 2
}
